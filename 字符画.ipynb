{
 "cells": [
  {
   "cell_type": "code",
   "execution_count": null,
   "metadata": {},
   "outputs": [],
   "source": [
    "import Image\n",
    "chars =\" ...',;:clodxkLO0DGEKNWMM\"\n",
    "fn=r'c:\\users\\liabc\\desktop\\jianbing.png'\n",
    "f1=lambda F:''.join([(k%100!=0) and m or m+'\\n' for k,m in enumerate(apply(lambda x:[chars[x[j,i]%len(chars)] for i in xrange(70) for j in xrange(100)],(Image.open(F).resize((100,70)).convert(\"L\").load(),)),1)])\n",
    " f=open(r\"c:\\users\\liabc\\desktop\\aface.txt\",\"w\")\n",
    "f.write(f1(fn))\n",
    "f.close()"
   ]
  }
 ],
 "metadata": {
  "kernelspec": {
   "display_name": "Python 3",
   "language": "python",
   "name": "python3"
  },
  "language_info": {
   "codemirror_mode": {
    "name": "ipython",
    "version": 3
   },
   "file_extension": ".py",
   "mimetype": "text/x-python",
   "name": "python",
   "nbconvert_exporter": "python",
   "pygments_lexer": "ipython3",
   "version": "3.6.5"
  }
 },
 "nbformat": 4,
 "nbformat_minor": 2
}
