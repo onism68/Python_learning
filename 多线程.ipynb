{
 "cells": [
  {
   "cell_type": "code",
   "execution_count": 7,
   "metadata": {},
   "outputs": [
    {
     "name": "stdout",
     "output_type": "stream",
     "text": [
      "QQXinTiao\n",
      "QQXinTiao\n"
     ]
    }
   ],
   "source": [
    "import threading\n",
    "import time\n",
    "\n",
    "class qqXinTiao(threading.Thread):\n",
    "    def __init__(self,*args, **kwargs):\n",
    "        super(qqXinTiao,self).__init__(*args, **kwargs)\n",
    "        self.__flag = threading.Event()     # 用于暂停线程的标识\n",
    "        self.__flag.set()       # 设置为True\n",
    "        self.__running = threading.Event()      # 用于停止线程的标识\n",
    "        self.__running.set()\n",
    "    def run(self):\n",
    "        while True:\n",
    "            time.sleep(1)\n",
    "            print('QQXinTiao')\n",
    "    def pause(self):\n",
    "        self.__flag.clear()     # 设置为False, 让线程阻塞\n",
    "\n",
    "    def resume(self):\n",
    "        self.__flag.set()    # 设置为True, 让线程停止阻塞\n",
    "\n",
    "    def stop(self):\n",
    "        self.__flag.set()       # 将线程从暂停状态恢复, 如何已经暂停的话\n",
    "        self.__running.clear()"
   ]
  },
  {
   "cell_type": "code",
   "execution_count": 6,
   "metadata": {},
   "outputs": [
    {
     "name": "stdout",
     "output_type": "stream",
     "text": [
      "QQXinTiao\n",
      "QQXinTiao\n",
      "QQXinTiao\n",
      "QQXinTiao\n",
      "QQXinTiao\n",
      "QQXinTiao\n",
      "QQXinTiao\n",
      "QQXinTiao\n",
      "QQXinTiao\n",
      "QQXinTiao\n"
     ]
    }
   ],
   "source": [
    "#qqUser = (2222,'zzz')\n",
    "a = qqXinTiao()\n",
    "\n",
    "#b = a(qqUser)\n",
    "a.start()"
   ]
  },
  {
   "cell_type": "code",
   "execution_count": null,
   "metadata": {},
   "outputs": [],
   "source": []
  }
 ],
 "metadata": {
  "kernelspec": {
   "display_name": "Python 3",
   "language": "python",
   "name": "python3"
  },
  "language_info": {
   "codemirror_mode": {
    "name": "ipython",
    "version": 3
   },
   "file_extension": ".py",
   "mimetype": "text/x-python",
   "name": "python",
   "nbconvert_exporter": "python",
   "pygments_lexer": "ipython3",
   "version": "3.7.0"
  }
 },
 "nbformat": 4,
 "nbformat_minor": 2
}
