{
 "cells": [
  {
   "cell_type": "code",
   "execution_count": 27,
   "metadata": {},
   "outputs": [
    {
     "data": {
      "text/plain": [
       "{'controls': [{'id': 'jianshedw', 'value': '南昌市西湖区人民政府系马桩街道办事处本级'},\n",
       "  {'id': 'zbdanweiname', 'value': '江西联硕科技有限公司'},\n",
       "  {'id': 'htno', 'value': '西湖购2018X000132996'},\n",
       "  {'id': 'htjine', 'value': '1904'},\n",
       "  {'id': 'supplierbankname', 'value': '中国银行南昌市北京东路支行'},\n",
       "  {'id': 'supplierbankaccount', 'value': '194725793076'},\n",
       "  {'total': 1,\n",
       "   'data': [{'itemname': '网线',\n",
       "     'totalprice': '1904',\n",
       "     'itemno': '西湖购2018X000132996',\n",
       "     'rowguid': ''}],\n",
       "   'id': 'datagrid'},\n",
       "  {'total': 1,\n",
       "   'data': [{'clienttype': 'J3001',\n",
       "     'operateusername': '',\n",
       "     'parttype': '',\n",
       "     'rowguid': '43386763-6149-4a78-9472-841b9cb84e0c',\n",
       "     'operatedate': '',\n",
       "     'uploaddwname': '',\n",
       "     'uploaduserguid': '04686e94-918e-4895-976d-b49a3f68933c',\n",
       "     'uploaddwguid': '',\n",
       "     'filepath': '',\n",
       "     'validatemd5': '33d3f88b159f54114e7b89f28e2a89a3',\n",
       "     'fromplatformcode': '',\n",
       "     'uploaduserdisplayname': '肖勇',\n",
       "     'auditstatus': '',\n",
       "     'isload': '',\n",
       "     'isqianzhang': '',\n",
       "     'yearflag': '',\n",
       "     'workitemguid': '',\n",
       "     'clientguid': 'ca734121-d0d9-431a-ae48-c24a6ade0fe0',\n",
       "     'shenheresult': '3',\n",
       "     'contenttype': 'application/pdf',\n",
       "     'attachsource': '',\n",
       "     'operationguid': '',\n",
       "     'notpassreason': '',\n",
       "     'uploaddatetime': 1542164346000,\n",
       "     'attachguid': '43386763-6149-4a78-9472-841b9cb84e0c',\n",
       "     'attachlength': 98767,\n",
       "     'attachfilename': '<a href=\"./jxpHtgsImageAction.action?cmd=download&attachguid=43386763-6149-4a78-9472-841b9cb84e0c\" target=\"_blank\">协议合同备案.pdf</a>',\n",
       "     'row_id': 2567634,\n",
       "     'belongxiaqucode': '',\n",
       "     'attach_connectionstringname': 'EPOINTBID_JXP_FJK2016',\n",
       "     'md5': 'f11d300f2f18194a11f6508c23a3b9b1'}],\n",
       "   'id': 'datagrid2'},\n",
       "  {'id': '_common_hidden_viewdata',\n",
       "   'value': '{\"RowGuid\":\"ca734121-d0d9-431a-ae48-c24a6ade0fe0\",\"mainRowGuid\":\"ca734121-d0d9-431a-ae48-c24a6ade0fe0\",\"isadd\":\"false\"}'}],\n",
       " 'custom': {'weburl': 'http://ggzyweb.jiangxi.gov.cn/jxggzy/WebbuilderMIS/RedirectPage/RedirectPage.jspx?locationurl=http://ggzyweb.jiangxi.gov.cn/web&infoid=null',\n",
       "  'rowguid': 'ca734121-d0d9-431a-ae48-c24a6ade0fe0',\n",
       "  'faqinfo': ''},\n",
       " 'status': {'code': '200', 'text': '', 'url': '', 'state': 'error'}}"
      ]
     },
     "execution_count": 27,
     "metadata": {},
     "output_type": "execute_result"
    }
   ],
   "source": [
    "import json\n",
    "import requests\n",
    "\n",
    "headers = {\n",
    "    'Accept': 'application/json, text/javascript, */*; q=0.01',\n",
    "    'Accept-Encoding': 'gzip, deflate',\n",
    "    'Accept-Language': 'zh-CN,zh;q=0.9',\n",
    "    'Connection': 'keep-alive',\n",
    "    'Content-Length': '1640',\n",
    "    'Content-Type': 'application/x-www-form-urlencoded; charset=UTF-8',\n",
    "    'Cookie': 'JSESSIONID=C86CF41D368322DD858404E08EB37352; _CSRFCOOKIE=7716C87A187A4CC4DF8CDC1EFB8F036291911764; EPTOKEN=7716C87A187A4CC4DF8CDC1EFB8F036291911764',\n",
    "    'CSRFCOOKIE': '7716C87A187A4CC4DF8CDC1EFB8F036291911764',\n",
    "    'Host': 'ggzyjy.jiangxi.gov.cn',\n",
    "    'Origin': 'http://ggzyjy.jiangxi.gov.cn',\n",
    "    'Referer': 'http://ggzyjy.jiangxi.gov.cn/hygs/huiyuaninfo/pages/htgs/HeTongGongShi_Detail?rowguid=ca734121-d0d9-431a-ae48-c24a6ade0fe0',\n",
    "    'User-Agent': 'Mozilla/5.0 (X11; Linux x86_64) AppleWebKit/537.36 (KHTML, like Gecko) Chrome/70.0.3538.102 Safari/537.36',\n",
    "    'X-Requested-With': 'XMLHttpRequest',\n",
    "}\n",
    "\n",
    "data = 'commonDto=%5B%7B%22id%22%3A%22jianshedw%22%2C%22bind%22%3A%22dataBean.jianshedw%22%2C%22type%22%3A%22outputtext%22%7D%2C%7B%22id%22%3A%22zbdanweiname%22%2C%22bind%22%3A%22dataBean.zbdanweiname%22%2C%22type%22%3A%22outputtext%22%7D%2C%7B%22id%22%3A%22htno%22%2C%22bind%22%3A%22dataBean.htno%22%2C%22type%22%3A%22outputtext%22%7D%2C%7B%22id%22%3A%22htjine%22%2C%22bind%22%3A%22dataBean.htjine%22%2C%22type%22%3A%22outputtext%22%7D%2C%7B%22id%22%3A%22supplierbankname%22%2C%22bind%22%3A%22dataBean.supplierbankname%22%2C%22type%22%3A%22outputtext%22%7D%2C%7B%22id%22%3A%22supplierbankaccount%22%2C%22bind%22%3A%22dataBean.supplierbankaccount%22%2C%22type%22%3A%22outputtext%22%7D%2C%7B%22id%22%3A%22datagrid%22%2C%22type%22%3A%22datagrid%22%2C%22action%22%3A%22zbdwSingleModel%22%2C%22idField%22%3A%22rowguid%22%2C%22pageIndex%22%3A0%2C%22pageSize%22%3A10%2C%22sortField%22%3A%22%22%2C%22sortOrder%22%3A%22%22%2C%22columns%22%3A%5B%7B%22fieldName%22%3A%22itemno%22%7D%2C%7B%22fieldName%22%3A%22itemname%22%7D%2C%7B%22fieldName%22%3A%22totalprice%22%7D%5D%2C%22url%22%3A%22jxpHtgsDetailAction.action%3Fcmd%3DzbdwSingleModel%22%2C%22data%22%3A%5B%5D%7D%2C%7B%22id%22%3A%22datagrid2%22%2C%22type%22%3A%22datagrid%22%2C%22action%22%3A%22defaultModel%22%2C%22idField%22%3A%22rowguid%22%2C%22pageIndex%22%3A0%2C%22pageSize%22%3A30%2C%22sortField%22%3A%22%22%2C%22sortOrder%22%3A%22%22%2C%22columns%22%3A%5B%7B%22fieldName%22%3A%22attachfilename%22%7D%5D%2C%22url%22%3A%22jxpHtgsDetailAction.action%3Fcmd%3DdefaultModel%22%2C%22data%22%3A%5B%5D%7D%2C%7B%22id%22%3A%22_common_hidden_viewdata%22%2C%22type%22%3A%22hidden%22%2C%22value%22%3A%22%22%7D%5D'\n",
    "\n",
    "url  = 'http://ggzyjy.jiangxi.gov.cn/hygs/huiyuaninfo/pages/htgs/jxpHtgsDetailAction.action?cmd=page_Load&rowguid=ca734121-d0d9-431a-ae48-c24a6ade0fe0&isCommondto=true'\n",
    "res = requests.post(url,data=data,headers=headers)\n",
    "res.encoding = 'utf8'\n",
    "json.loads(res.text)"
   ]
  },
  {
   "cell_type": "code",
   "execution_count": null,
   "metadata": {},
   "outputs": [],
   "source": []
  }
 ],
 "metadata": {
  "kernelspec": {
   "display_name": "Python 3",
   "language": "python",
   "name": "python3"
  },
  "language_info": {
   "codemirror_mode": {
    "name": "ipython",
    "version": 3
   },
   "file_extension": ".py",
   "mimetype": "text/x-python",
   "name": "python",
   "nbconvert_exporter": "python",
   "pygments_lexer": "ipython3",
   "version": "3.7.0"
  }
 },
 "nbformat": 4,
 "nbformat_minor": 2
}
