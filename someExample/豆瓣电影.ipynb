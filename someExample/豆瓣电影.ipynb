{
 "cells": [
  {
   "cell_type": "code",
   "execution_count": 42,
   "metadata": {},
   "outputs": [
    {
     "name": "stdout",
     "output_type": "stream",
     "text": [
      "10 2.3 [{'name': '户户大人'}] [{'name': '大侃'}]\n"
     ]
    }
   ],
   "source": [
    "import json\n",
    "import requests\n",
    "\n",
    "def getVideoList():\n",
    "    vurl = 'https://api.douban.com/v2/movie/in_theaters?apikey=0b2bdeda43b5688921839c8ecb20399b&start=0&count=100&client=&udid='\n",
    "    vres = requests.get(vurl)\n",
    "    vjs = json.loads(vres.text)\n",
    "    sub = vjs['subjects']\n",
    "    for s in range(len(sub)):\n",
    "        genres = sub[s]['genres']\n",
    "        vid = sub[s]['id']\n",
    "        mainland_pubdate = sub[s]['mainland_pubdate']\n",
    "        title = sub[s]['title']\n",
    "        year = sub[s]['year']\n",
    "        print(genres,vid,mainland_pubdate,title,year)\n",
    "def getVideo():\n",
    "    durl = 'http://api.douban.com/v2/movie/subject/26865690?apikey=0b2bdeda43b5688921839c8ecb20399b&client=&udid='\n",
    "    dres = requests.get(durl)\n",
    "    djs = json.loads(dres.text)\n",
    "    dmax = djs['rating']['max']\n",
    "    average = djs['rating']['average']\n",
    "    popular_comment = djs['popular_comments']\n",
    "#     for pp in range(len(popular_comment)):\n",
    "#         popular_comments = []\n",
    "#         popular_comments.append ({\n",
    "#         'name':popular_comment[pp]['author']['name']\n",
    "#         })\n",
    "    \n",
    "#     popular_review = djs['popular_reviews']\n",
    "#     for pp in range(len(popular_review)):\n",
    "#         popular_reviews = []\n",
    "#         popular_reviews.append ({\n",
    "#         'name':popular_review[pp]['author']['name']\n",
    "#         })\n",
    "    print(dmax,average,)\n",
    "getVideo()\n",
    "\n"
   ]
  },
  {
   "cell_type": "code",
   "execution_count": 8,
   "metadata": {},
   "outputs": [
    {
     "data": {
      "text/plain": [
       "{'rating': {'max': 10,\n",
       "  'average': 7.4,\n",
       "  'details': {'1': 168.0,\n",
       "   '3': 15050.0,\n",
       "   '2': 1664.0,\n",
       "   '5': 5529.0,\n",
       "   '4': 18980.0},\n",
       "  'stars': '40',\n",
       "  'min': 0},\n",
       " 'genres': ['动作', '科幻', '惊悚'],\n",
       " 'title': '毒液：致命守护者',\n",
       " 'casts': [{'avatars': {'small': 'https://img3.doubanio.com/view/celebrity/s_ratio_celebrity/public/p5110.jpg',\n",
       "    'large': 'https://img3.doubanio.com/view/celebrity/s_ratio_celebrity/public/p5110.jpg',\n",
       "    'medium': 'https://img3.doubanio.com/view/celebrity/s_ratio_celebrity/public/p5110.jpg'},\n",
       "   'name_en': 'Tom Hardy',\n",
       "   'name': '汤姆·哈迪',\n",
       "   'alt': 'https://movie.douban.com/celebrity/1049489/',\n",
       "   'id': '1049489'},\n",
       "  {'avatars': {'small': 'https://img3.doubanio.com/view/celebrity/s_ratio_celebrity/public/p19972.jpg',\n",
       "    'large': 'https://img3.doubanio.com/view/celebrity/s_ratio_celebrity/public/p19972.jpg',\n",
       "    'medium': 'https://img3.doubanio.com/view/celebrity/s_ratio_celebrity/public/p19972.jpg'},\n",
       "   'name_en': 'Michelle Williams',\n",
       "   'name': '米歇尔·威廉姆斯',\n",
       "   'alt': 'https://movie.douban.com/celebrity/1049491/',\n",
       "   'id': '1049491'},\n",
       "  {'avatars': {'small': 'https://img1.doubanio.com/view/celebrity/s_ratio_celebrity/public/p4767.jpg',\n",
       "    'large': 'https://img1.doubanio.com/view/celebrity/s_ratio_celebrity/public/p4767.jpg',\n",
       "    'medium': 'https://img1.doubanio.com/view/celebrity/s_ratio_celebrity/public/p4767.jpg'},\n",
       "   'name_en': 'Riz Ahmed',\n",
       "   'name': '里兹·阿迈德',\n",
       "   'alt': 'https://movie.douban.com/celebrity/1036731/',\n",
       "   'id': '1036731'}],\n",
       " 'durations': ['112分钟', '107分钟(中国大陆)'],\n",
       " 'collect_count': 356289,\n",
       " 'mainland_pubdate': '2018-11-09',\n",
       " 'has_video': False,\n",
       " 'original_title': 'Venom',\n",
       " 'subtype': 'movie',\n",
       " 'directors': [{'avatars': {'small': 'https://img3.doubanio.com/view/celebrity/s_ratio_celebrity/public/p1360083887.75.jpg',\n",
       "    'large': 'https://img3.doubanio.com/view/celebrity/s_ratio_celebrity/public/p1360083887.75.jpg',\n",
       "    'medium': 'https://img3.doubanio.com/view/celebrity/s_ratio_celebrity/public/p1360083887.75.jpg'},\n",
       "   'name_en': 'Ruben Fleischer',\n",
       "   'name': '鲁本·弗雷斯彻',\n",
       "   'alt': 'https://movie.douban.com/celebrity/1274906/',\n",
       "   'id': '1274906'}],\n",
       " 'pubdates': ['2018-10-05(美国)', '2018-11-09(中国大陆)'],\n",
       " 'year': '2018',\n",
       " 'images': {'small': 'https://img3.doubanio.com/view/photo/s_ratio_poster/public/p2537158013.jpg',\n",
       "  'large': 'https://img3.doubanio.com/view/photo/s_ratio_poster/public/p2537158013.jpg',\n",
       "  'medium': 'https://img3.doubanio.com/view/photo/s_ratio_poster/public/p2537158013.jpg'},\n",
       " 'alt': 'https://movie.douban.com/subject/3168101/',\n",
       " 'id': '3168101'}"
      ]
     },
     "execution_count": 8,
     "metadata": {},
     "output_type": "execute_result"
    }
   ],
   "source": [
    "sub[0]"
   ]
  }
 ],
 "metadata": {
  "kernelspec": {
   "display_name": "Python 3",
   "language": "python",
   "name": "python3"
  },
  "language_info": {
   "codemirror_mode": {
    "name": "ipython",
    "version": 3
   },
   "file_extension": ".py",
   "mimetype": "text/x-python",
   "name": "python",
   "nbconvert_exporter": "python",
   "pygments_lexer": "ipython3",
   "version": "3.7.0"
  }
 },
 "nbformat": 4,
 "nbformat_minor": 2
}
