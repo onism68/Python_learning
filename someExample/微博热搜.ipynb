{
 "cells": [
  {
   "cell_type": "code",
   "execution_count": 54,
   "metadata": {},
   "outputs": [
    {
     "name": "stdout",
     "output_type": "stream",
     "text": [
      "被拒后礼貌感谢偷偷落泪 1416238 https://s.weibo.com/weibo?q=被拒后礼貌感谢偷偷落泪&Refer=top\n",
      "维密落幕奚梦瑶发文感谢 1189009 https://s.weibo.com/weibo?q=维密落幕奚梦瑶发文感谢&Refer=top\n",
      "天猫双11 933950 https://s.weibo.com/weibo?q=天猫双11&Refer=top\n",
      "具惠善 幸福肥 824639 https://s.weibo.com/weibo?q=具惠善 幸福肥&Refer=top\n",
      "陈欧 暖男 781392 https://s.weibo.com/weibo?q=陈欧 暖男&Refer=top\n",
      "儿子找女友只求漂亮 亲妈回怼 736380 https://s.weibo.com/weibo?q=儿子找女友只求漂亮 亲妈回怼&Refer=top\n",
      "周渝民结婚纪念日晒婚纱照 695239 https://s.weibo.com/weibo?q=周渝民结婚纪念日晒婚纱照&Refer=top\n",
      "火箭少女表演伴奏突然停止 685652 https://s.weibo.com/weibo?q=火箭少女表演伴奏突然停止&Refer=top\n",
      "公交搂抱5年级女孩 572824 https://s.weibo.com/weibo?q=公交搂抱5年级女孩&Refer=top\n",
      "紫宁十环 499777 https://s.weibo.com/weibo?q=紫宁十环&Refer=top\n",
      "王思聪 漫展cos 480448 https://s.weibo.com/weibo?q=王思聪 漫展cos&Refer=top\n",
      "吴京回应一张照片走天下 386047 https://s.weibo.com/weibo?q=吴京回应一张照片走天下&Refer=top\n",
      "孟美岐脱靶 342666 https://s.weibo.com/weibo?q=孟美岐脱靶&Refer=top\n",
      "毒液太可爱了 296885 https://s.weibo.com/weibo?q=毒液太可爱了&Refer=top\n",
      "加州大火 LadyGaga豪宅被毁 239769 https://s.weibo.com/weibo?q=加州大火 LadyGaga豪宅被毁&Refer=top\n",
      "百花奖红毯 237659 https://s.weibo.com/weibo?q=百花奖红毯&Refer=top\n",
      "要是中了王思聪的一万块 219618 https://s.weibo.com/weibo?q=要是中了王思聪的一万块&Refer=top\n",
      "于小彤射箭厉害 217063 https://s.weibo.com/weibo?q=于小彤射箭厉害&Refer=top\n",
      "晒出你的腿毛 207752 https://s.weibo.com/weibo?q=晒出你的腿毛&Refer=top\n",
      "王菲 谢霆锋香港新家 188345 https://s.weibo.com/weibo?q=王菲 谢霆锋香港新家&Refer=top\n",
      "炎亚纶好会亲 169679 https://s.weibo.com/weibo?q=炎亚纶好会亲&Refer=top\n",
      "低欲望群体 146623 https://s.weibo.com/weibo?q=低欲望群体&Refer=top\n",
      "买书不读不要产生负罪感 146587 https://s.weibo.com/weibo?q=买书不读不要产生负罪感&Refer=top\n",
      "iPhone X 触控问题 146322 https://s.weibo.com/weibo?q=iPhone X 触控问题&Refer=top\n",
      "南京公交 拿车上零钱投币 139381 https://s.weibo.com/weibo?q=南京公交 拿车上零钱投币&Refer=top\n",
      "镇魂女孩过年了 132908 https://s.weibo.com/weibo?q=镇魂女孩过年了&Refer=top\n",
      "真正的搬家 不是一个次元的 132667 https://s.weibo.com/weibo?q=真正的搬家 不是一个次元的&Refer=top\n",
      "最高法法官谈重庆公交坠江 119688 https://s.weibo.com/weibo?q=最高法法官谈重庆公交坠江&Refer=top\n",
      "连上13小时班请假遭拒 112610 https://s.weibo.com/weibo?q=连上13小时班请假遭拒&Refer=top\n",
      "张柏芝 112208 https://s.weibo.com/weibo?q=张柏芝&Refer=top\n",
      "鹿晗发型 8000功率吹风机 106957 https://s.weibo.com/weibo?q=鹿晗发型 8000功率吹风机&Refer=top\n",
      "一只螃蟹的自我奋斗 102677 https://s.weibo.com/weibo?q=一只螃蟹的自我奋斗&Refer=top\n",
      "杨丽娟再谈刘德华 100480 https://s.weibo.com/weibo?q=杨丽娟再谈刘德华&Refer=top\n",
      "娱乐圈差距最大的两颗头 99566 https://s.weibo.com/weibo?q=娱乐圈差距最大的两颗头&Refer=top\n",
      "坐个素月子 91736 https://s.weibo.com/weibo?q=坐个素月子&Refer=top\n",
      "死神少女 87249 https://s.weibo.com/weibo?q=死神少女&Refer=top\n",
      "双十一表情包 82171 https://s.weibo.com/weibo?q=双十一表情包&Refer=top\n",
      "郑爽替身 82022 https://s.weibo.com/weibo?q=郑爽替身&Refer=top\n",
      "明天买什么 72271 https://s.weibo.com/weibo?q=明天买什么&Refer=top\n",
      "正确打开毒液的方式 71492 https://s.weibo.com/weibo?q=正确打开毒液的方式&Refer=top\n",
      "陈展鹏当爸 71399 https://s.weibo.com/weibo?q=陈展鹏当爸&Refer=top\n",
      "腾格尔女儿 70547 https://s.weibo.com/weibo?q=腾格尔女儿&Refer=top\n",
      "吴亦凡回应 68988 https://s.weibo.com/weibo?q=吴亦凡回应&Refer=top\n",
      "lgd小组第一 68377 https://s.weibo.com/weibo?q=lgd小组第一&Refer=top\n",
      "泉港碳九调查报告 66274 https://s.weibo.com/weibo?q=泉港碳九调查报告&Refer=top\n",
      "吴宣仪会撩 66114 https://s.weibo.com/weibo?q=吴宣仪会撩&Refer=top\n",
      "一辆价值连城的车 65747 https://s.weibo.com/weibo?q=一辆价值连城的车&Refer=top\n",
      "破洞牛仔裤里穿秋裤 64069 https://s.weibo.com/weibo?q=破洞牛仔裤里穿秋裤&Refer=top\n",
      "赵粤摔倒 60960 https://s.weibo.com/weibo?q=赵粤摔倒&Refer=top\n",
      "王鹤棣 那是易烊千玺 59166 https://s.weibo.com/weibo?q=王鹤棣 那是易烊千玺&Refer=top\n"
     ]
    }
   ],
   "source": [
    "import requests\n",
    "from bs4 import BeautifulSoup\n",
    "\n",
    "url = 'https://s.weibo.com/top/summary?cate=realtimehot'\n",
    "res = requests.get(url)\n",
    "data = BeautifulSoup(res.text,'html.parser')\n",
    "data1 = data.select('.td-02')\n",
    "for i in range(1,len(data1)):\n",
    "    data2 = data1[i]('a')[0].text.strip()\n",
    "    num = data1[i]('span')[0].text.strip()\n",
    "    weibourl = 'https://s.weibo.com/weibo?q={}&Refer=top'.format(data2)\n",
    "    print(data2,num,weibourl)"
   ]
  },
  {
   "cell_type": "code",
   "execution_count": 25,
   "metadata": {},
   "outputs": [
    {
     "data": {
      "text/plain": [
       "{'card_type': 4,\n",
       " 'card_type_name': '热搜词',\n",
       " 'itemid': 'hotword',\n",
       " 'desc': '中国国际进口博览会',\n",
       " 'scheme': 'sinaweibo://searchall?containerid=100103&q=%23%E4%B8%AD%E5%9B%BD%E5%9B%BD%E9%99%85%E8%BF%9B%E5%8F%A3%E5%8D%9A%E8%A7%88%E4%BC%9A%23&isnewpage=1&extparam=filter_type%3Drealtimehot%26pos%3D0%26c_type%3D51%26q%3D%23%E4%B8%AD%E5%9B%BD%E5%9B%BD%E9%99%85%E8%BF%9B%E5%8F%A3%E5%8D%9A%E8%A7%88%E4%BC%9A%23%26display_time%3D1541775220',\n",
       " 'icon': 'http://simg.s.weibo.com/20180813192001_re_72_0813.png',\n",
       " 'pic': 'http://simg.s.weibo.com/20180205110043_img_search_stick%403x.png',\n",
       " 'actionlog': {'act_code': 554,\n",
       "  'ext': 'cate:10113|pos:0_0|t:51|page:1|type:25',\n",
       "  'luicode': '10000010',\n",
       "  'uicode': 10000003,\n",
       "  'fid': '106003type=25&t=3&disable_hot=1&filter_type=realtimehot'},\n",
       " 'openurl': ''}"
      ]
     },
     "execution_count": 25,
     "metadata": {},
     "output_type": "execute_result"
    }
   ],
   "source": [
    "desc1 = js['cards'][0]['card_group'][0]\n",
    "desc1"
   ]
  }
 ],
 "metadata": {
  "kernelspec": {
   "display_name": "Python 3",
   "language": "python",
   "name": "python3"
  },
  "language_info": {
   "codemirror_mode": {
    "name": "ipython",
    "version": 3
   },
   "file_extension": ".py",
   "mimetype": "text/x-python",
   "name": "python",
   "nbconvert_exporter": "python",
   "pygments_lexer": "ipython3",
   "version": "3.7.0"
  }
 },
 "nbformat": 4,
 "nbformat_minor": 2
}
