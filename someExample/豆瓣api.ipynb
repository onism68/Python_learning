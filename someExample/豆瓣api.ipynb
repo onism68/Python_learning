{
 "cells": [
  {
   "cell_type": "code",
   "execution_count": 95,
   "metadata": {},
   "outputs": [],
   "source": [
    "import json\n",
    "import requests\n",
    "\n",
    "headers = {\n",
    "    'User-Agent': 'Rexxar-Core/0.1.3 api-client/1 com.douban.frodo/6.4.0(143) Android/26 product/sagit vendor/Xiaomi model/MI 6  rom/android  network/wifi  platform/mobile com.douban.frodo/6.4.0(143) Rexxar/  platform/mobile 1.2.151',\n",
    "    'Host': 'frodo.douban.com'   \n",
    "}\n",
    "\n",
    "def getBook(bid):\n",
    "    url0 = 'https://frodo.douban.com/api/v2/book/{}?apikey=0dad551ec0f84ed02907ff5c42e8ec70&channel=Yingyongbao_Market&udid=3e363a92f023fc1487681497176850df68a46118&os_rom=android&_sig=xYYhnBWsQtPzh347FmRxnF1EAnA%3D&_ts=1542637923'\n",
    "    urlb = url0.format(bid)\n",
    "    resb = requests.get(urlb,headers = headers)\n",
    "    js = json.loads(resb.text)\n",
    "    bjs = js['rating']\n",
    "    title = js['title']\n",
    "    press = js['press'][0]#出版社\n",
    "    author =  js['author'][0]\n",
    "    count = bjs['count']\n",
    "    bmax = bjs['max']#最高评分\n",
    "    star_count = bjs['star_count']#评级星数\n",
    "    value = bjs['value']#平均评分\n",
    "    comment_count = js['comment_count']\n",
    "    pubdate = js['pubdate'][0]#发布时间\n",
    "    intro = js['intro']#介绍\n",
    "    print(star_count)\n",
    "\n",
    "#获取豆瓣图书TOP 250\n",
    "def getDouBanBangDan():\n",
    "    url1 = 'https://frodo.douban.com/api/v2/subject_collection/book_top250/items?start=0&count=50&udid=3e363a92f023fc1487681497176850df68a46118&rom=android&apikey=0dad551ec0f84ed02907ff5c42e8ec70&s=rexxar_new&channel=Yingyongbao_Market&device_id=3e363a92f023fc1487681497176850df68a46118&os_rom=android&apple=7584bf91fe6eda075c2e1d8bf895edb1&mooncake=0f607264fc6318a92b9e13c65db7cd3c&loc_id=108288&_sig=RrhX84FcbMN0HcsS%2FL0BZxvqcLo%3D&_ts=1542637520'\n",
    "    resd = requests.get(url1,headers = headers)\n",
    "    js = json.loads(resd.text)\n",
    "    js1 = js['subject_collection_items']\n",
    "    for dbbd in range(len(js1)):\n",
    "        bid = js1[dbbd]['id']\n",
    "        title = js1[dbbd]['title']\n",
    "        year = js1[dbbd]['year'][0]\n",
    "        #author = js1[dbbd]['author'][0]\n",
    "        count = js1[dbbd]['rating']['count']\n",
    "        value = js1[dbbd]['rating']['value']\n",
    "        wish_count = js1[dbbd]['wish_count']\n",
    "        press = js1[dbbd]['press'][0]\n",
    "        description = js1[dbbd]['description']\n",
    "        getBook(bid)\n",
    "        #print(id,title,year,count, value, wish_count, press, description)\n",
    "\n",
    "#getDouBanBangDan()"
   ]
  },
  {
   "cell_type": "code",
   "execution_count": 97,
   "metadata": {
    "scrolled": false
   },
   "outputs": [
    {
     "name": "stdout",
     "output_type": "stream",
     "text": [
      "4.5\n"
     ]
    },
    {
     "ename": "KeyError",
     "evalue": "'rating'",
     "output_type": "error",
     "traceback": [
      "\u001b[0;31m---------------------------------------------------------------------------\u001b[0m",
      "\u001b[0;31mKeyError\u001b[0m                                  Traceback (most recent call last)",
      "\u001b[0;32m<ipython-input-97-1118e9aa9737>\u001b[0m in \u001b[0;36m<module>\u001b[0;34m()\u001b[0m\n\u001b[0;32m----> 1\u001b[0;31m \u001b[0mgetDouBanBangDan\u001b[0m\u001b[0;34m(\u001b[0m\u001b[0;34m)\u001b[0m\u001b[0;34m\u001b[0m\u001b[0m\n\u001b[0m",
      "\u001b[0;32m<ipython-input-95-0de3f36f3565>\u001b[0m in \u001b[0;36mgetDouBanBangDan\u001b[0;34m()\u001b[0m\n\u001b[1;32m     41\u001b[0m         \u001b[0mpress\u001b[0m \u001b[0;34m=\u001b[0m \u001b[0mjs1\u001b[0m\u001b[0;34m[\u001b[0m\u001b[0mdbbd\u001b[0m\u001b[0;34m]\u001b[0m\u001b[0;34m[\u001b[0m\u001b[0;34m'press'\u001b[0m\u001b[0;34m]\u001b[0m\u001b[0;34m[\u001b[0m\u001b[0;36m0\u001b[0m\u001b[0;34m]\u001b[0m\u001b[0;34m\u001b[0m\u001b[0m\n\u001b[1;32m     42\u001b[0m         \u001b[0mdescription\u001b[0m \u001b[0;34m=\u001b[0m \u001b[0mjs1\u001b[0m\u001b[0;34m[\u001b[0m\u001b[0mdbbd\u001b[0m\u001b[0;34m]\u001b[0m\u001b[0;34m[\u001b[0m\u001b[0;34m'description'\u001b[0m\u001b[0;34m]\u001b[0m\u001b[0;34m\u001b[0m\u001b[0m\n\u001b[0;32m---> 43\u001b[0;31m         \u001b[0mgetBook\u001b[0m\u001b[0;34m(\u001b[0m\u001b[0mbid\u001b[0m\u001b[0;34m)\u001b[0m\u001b[0;34m\u001b[0m\u001b[0m\n\u001b[0m\u001b[1;32m     44\u001b[0m         \u001b[0;31m#print(id,title,year,count, value, wish_count, press, description)\u001b[0m\u001b[0;34m\u001b[0m\u001b[0;34m\u001b[0m\u001b[0m\n\u001b[1;32m     45\u001b[0m \u001b[0;34m\u001b[0m\u001b[0m\n",
      "\u001b[0;32m<ipython-input-95-0de3f36f3565>\u001b[0m in \u001b[0;36mgetBook\u001b[0;34m(bid)\u001b[0m\n\u001b[1;32m     12\u001b[0m     \u001b[0mresb\u001b[0m \u001b[0;34m=\u001b[0m \u001b[0mrequests\u001b[0m\u001b[0;34m.\u001b[0m\u001b[0mget\u001b[0m\u001b[0;34m(\u001b[0m\u001b[0murlb\u001b[0m\u001b[0;34m,\u001b[0m\u001b[0mheaders\u001b[0m \u001b[0;34m=\u001b[0m \u001b[0mheaders\u001b[0m\u001b[0;34m)\u001b[0m\u001b[0;34m\u001b[0m\u001b[0m\n\u001b[1;32m     13\u001b[0m     \u001b[0mjs\u001b[0m \u001b[0;34m=\u001b[0m \u001b[0mjson\u001b[0m\u001b[0;34m.\u001b[0m\u001b[0mloads\u001b[0m\u001b[0;34m(\u001b[0m\u001b[0mresb\u001b[0m\u001b[0;34m.\u001b[0m\u001b[0mtext\u001b[0m\u001b[0;34m)\u001b[0m\u001b[0;34m\u001b[0m\u001b[0m\n\u001b[0;32m---> 14\u001b[0;31m     \u001b[0mbjs\u001b[0m \u001b[0;34m=\u001b[0m \u001b[0mjs\u001b[0m\u001b[0;34m[\u001b[0m\u001b[0;34m'rating'\u001b[0m\u001b[0;34m]\u001b[0m\u001b[0;34m\u001b[0m\u001b[0m\n\u001b[0m\u001b[1;32m     15\u001b[0m     \u001b[0mtitle\u001b[0m \u001b[0;34m=\u001b[0m \u001b[0mjs\u001b[0m\u001b[0;34m[\u001b[0m\u001b[0;34m'title'\u001b[0m\u001b[0;34m]\u001b[0m\u001b[0;34m\u001b[0m\u001b[0m\n\u001b[1;32m     16\u001b[0m     \u001b[0mpress\u001b[0m \u001b[0;34m=\u001b[0m \u001b[0mjs\u001b[0m\u001b[0;34m[\u001b[0m\u001b[0;34m'press'\u001b[0m\u001b[0;34m]\u001b[0m\u001b[0;34m[\u001b[0m\u001b[0;36m0\u001b[0m\u001b[0;34m]\u001b[0m\u001b[0;31m#出版社\u001b[0m\u001b[0;34m\u001b[0m\u001b[0m\n",
      "\u001b[0;31mKeyError\u001b[0m: 'rating'"
     ]
    }
   ],
   "source": [
    "getDouBanBangDan()"
   ]
  },
  {
   "cell_type": "code",
   "execution_count": 104,
   "metadata": {},
   "outputs": [
    {
     "ename": "KeyError",
     "evalue": "'rating'",
     "output_type": "error",
     "traceback": [
      "\u001b[0;31m---------------------------------------------------------------------------\u001b[0m",
      "\u001b[0;31mKeyError\u001b[0m                                  Traceback (most recent call last)",
      "\u001b[0;32m<ipython-input-104-945a6a9bc625>\u001b[0m in \u001b[0;36m<module>\u001b[0;34m()\u001b[0m\n\u001b[1;32m      2\u001b[0m \u001b[0mres\u001b[0m \u001b[0;34m=\u001b[0m \u001b[0mrequests\u001b[0m\u001b[0;34m.\u001b[0m\u001b[0mget\u001b[0m\u001b[0;34m(\u001b[0m\u001b[0murl\u001b[0m\u001b[0;34m,\u001b[0m\u001b[0mheaders\u001b[0m \u001b[0;34m=\u001b[0m \u001b[0mheaders\u001b[0m\u001b[0;34m)\u001b[0m\u001b[0;31m######1770782\u001b[0m\u001b[0;34m\u001b[0m\u001b[0m\n\u001b[1;32m      3\u001b[0m \u001b[0mjs\u001b[0m \u001b[0;34m=\u001b[0m \u001b[0mjson\u001b[0m\u001b[0;34m.\u001b[0m\u001b[0mloads\u001b[0m\u001b[0;34m(\u001b[0m\u001b[0mres\u001b[0m\u001b[0;34m.\u001b[0m\u001b[0mtext\u001b[0m\u001b[0;34m)\u001b[0m\u001b[0;34m\u001b[0m\u001b[0m\n\u001b[0;32m----> 4\u001b[0;31m \u001b[0mbjs\u001b[0m \u001b[0;34m=\u001b[0m \u001b[0mjs\u001b[0m\u001b[0;34m[\u001b[0m\u001b[0;34m'rating'\u001b[0m\u001b[0;34m]\u001b[0m\u001b[0;34m\u001b[0m\u001b[0m\n\u001b[0m\u001b[1;32m      5\u001b[0m \u001b[0mtitle\u001b[0m \u001b[0;34m=\u001b[0m \u001b[0mjs\u001b[0m\u001b[0;34m[\u001b[0m\u001b[0;34m'title'\u001b[0m\u001b[0;34m]\u001b[0m\u001b[0;34m\u001b[0m\u001b[0m\n\u001b[1;32m      6\u001b[0m \u001b[0mpress\u001b[0m \u001b[0;34m=\u001b[0m \u001b[0mjs\u001b[0m\u001b[0;34m[\u001b[0m\u001b[0;34m'press'\u001b[0m\u001b[0;34m]\u001b[0m\u001b[0;34m[\u001b[0m\u001b[0;36m0\u001b[0m\u001b[0;34m]\u001b[0m\u001b[0;31m#出版社\u001b[0m\u001b[0;34m\u001b[0m\u001b[0m\n",
      "\u001b[0;31mKeyError\u001b[0m: 'rating'"
     ]
    }
   ],
   "source": [
    "url = 'https://frodo.douban.com/api/v2/book/30338769?apikey=0dad551ec0f84ed02907ff5c42e8ec70&channel=Yingyongbao_Market&udid=3e363a92f023fc1487681497176850df68a46118&os_rom=android&_sig=xYYhnBWsQtPzh347FmRxnF1EAnA%3D&_ts=1542637923'\n",
    "res = requests.get(url,headers = headers)######1770782\n",
    "js = json.loads(res.text)\n",
    "bjs = js['rating']\n",
    "title = js['title']\n",
    "press = js['press'][0]#出版社\n",
    "author =  js['author'][0]\n",
    "count = bjs['count']\n",
    "bmax = bjs['max']#最高评分\n",
    "star_count = bjs['star_count']#评级星数\n",
    "value = bjs['value']#平均评分\n",
    "comment_count = js['comment_count']\n",
    "pubdate = js['pubdate'][0]#发布时间\n",
    "intro = js['intro']#介绍\n",
    "\n",
    "title,press,author,count,bmax,star_count,value,pubdate,intro,comment_count"
   ]
  },
  {
   "cell_type": "code",
   "execution_count": 105,
   "metadata": {},
   "outputs": [
    {
     "data": {
      "text/plain": [
       "{'msg': 'invalid_request_996',\n",
       " 'code': 996,\n",
       " 'request': 'GET /v2/book/30338769',\n",
       " 'localized_message': '签名错误'}"
      ]
     },
     "execution_count": 105,
     "metadata": {},
     "output_type": "execute_result"
    }
   ],
   "source": [
    "js"
   ]
  },
  {
   "cell_type": "code",
   "execution_count": 92,
   "metadata": {},
   "outputs": [
    {
     "data": {
      "text/plain": [
       "{'rating': {'count': 352449, 'max': 10, 'star_count': 4.5, 'value': 8.9},\n",
       " 'vendor_count': 4,\n",
       " 'subtitle': [],\n",
       " 'gallery_topic_count': 1,\n",
       " 'pubdate': ['2006-5'],\n",
       " 'pic': {'large': 'https://img3.doubanio.com/view/subject/l/public/s1727290.jpg',\n",
       "  'normal': 'https://img3.doubanio.com/view/subject/l/public/s1727290.jpg'},\n",
       " 'body_bg_color': 'f9f5f4',\n",
       " 'intro': '12岁的阿富汗富家少爷阿米尔与仆人哈桑情同手足。然而，在一场风筝比赛后，发生了一件悲惨不堪的事，阿米尔为自己的懦弱感到自责和痛苦，逼走了哈桑，不久，自己也跟随父亲逃往美国。\\n成年后的阿米尔始终无法原谅自己当年对哈桑的背叛。为了赎罪，阿米尔再度踏上暌违二十多年的故乡，希望能为不幸的好友尽最后一点心力，却发现一个惊天谎言，儿时的噩梦再度重演，阿米尔该如何抉择？\\n故事如此残忍而又美丽，作者以温暖细腻的笔法勾勒人性的本质与救赎，读来令人荡气回肠。',\n",
       " 'author_intro': '卡勒德·胡赛尼（Khaled Hosseini），1965年生于阿富汗喀布尔市，后随父亲迁往美国。胡赛尼毕业于加州大学圣地亚哥医学系，现居加州。“立志拂去蒙在阿富汗普通民众面孔的尘灰，将背后灵魂的悸动展示给世人。”著有小说《追风筝的人》(The Kite Runner，2003）、《灿烂千阳》(A Thousand Splendid Suns，2007)、《群山回唱》（And the Mountains Echoed,2013）。作品全球销量超过4000万册。2006年，因其作品巨大的国际影响力，胡赛尼获得联合国人道主义奖，并受邀担任联合国难民署亲善大使。',\n",
       " 'card_subtitle': '[美] 卡勒德·胡赛尼 / 2006 / 上海人民出版社',\n",
       " 'id': '1770782',\n",
       " 'ebooks': [{'reader_uri': 'https://read.douban.com/reader/ebook/1162265/',\n",
       "   'reader_url': 'https://read.douban.com/reader/ebook/1162265/',\n",
       "   'url': 'https://read.douban.com/ebook/1162265/',\n",
       "   'source_uri': 'https://read.douban.com/ebook/1162265/',\n",
       "   'free': False,\n",
       "   'source': {'literal': 'doubanread',\n",
       "    'pic': 'https://img3.doubanio.com/img/files/file-1433733653.png',\n",
       "    'name': '豆瓣阅读',\n",
       "    'val': 0}}],\n",
       " 'debut_url': '',\n",
       " 'can_interact': True,\n",
       " 'review_count': 6652,\n",
       " 'buylinks_url': 'https://www.douban.com/doubanapp//h5/book/1770782/buylinks',\n",
       " 'author': ['[美] 卡勒德·胡赛尼'],\n",
       " 'comment_count': 97780,\n",
       " 'forum_topic_count': 511,\n",
       " 'is_released': True,\n",
       " 'ugc_tabs': [{'source': 'reviews', 'type': 'review', 'title': '书评'},\n",
       "  {'source': 'gallery_topics', 'type': 'gallery_topic', 'title': '话题'},\n",
       "  {'source': 'forum_topics', 'type': 'forum', 'title': '讨论'},\n",
       "  {'source': 'annotations', 'type': 'annotation', 'title': '读书笔记'}],\n",
       " 'interest': None,\n",
       " 'header_bg_color': '7f4031',\n",
       " 'color_scheme': {'is_dark': True,\n",
       "  'primary_color_light': 'a5543f',\n",
       "  '_base_color': [0.0328282828282828, 0.613953488372093, 0.8431372549019608],\n",
       "  'secondary_color': 'f9f5f4',\n",
       "  '_avg_color': [0.01890034364261169, 0.5271739130434783, 0.7215686274509804],\n",
       "  'primary_color_dark': '7f4031'},\n",
       " 'type': 'book',\n",
       " 'annotation_count': 3092,\n",
       " 'book_series': {'publisher_basic': '上海人民出版社 等',\n",
       "  'url': 'https://book.douban.com/series/19760',\n",
       "  'uri': 'douban://douban.com/book_series/19760',\n",
       "  'total_number': 4,\n",
       "  'title': '卡勒德·胡赛尼作品'},\n",
       " 'tags': [{'url': 'https://www.douban.com/channel/30169652',\n",
       "   'id': '30169652',\n",
       "   'name': '人性',\n",
       "   'is_channel': True,\n",
       "   'uri': 'douban://douban.com/channel/30169652'},\n",
       "  {'url': 'https://www.douban.com/channel/30307456',\n",
       "   'id': '30307456',\n",
       "   'name': '阿富汗',\n",
       "   'is_channel': True,\n",
       "   'uri': 'douban://douban.com/channel/30307456'},\n",
       "  {'url': 'https://www.douban.com/channel/30168732',\n",
       "   'id': '30168732',\n",
       "   'name': '小说',\n",
       "   'is_channel': True,\n",
       "   'uri': 'douban://douban.com/channel/30168732'},\n",
       "  {'url': 'https://www.douban.com/channel/30168801',\n",
       "   'id': '30168801',\n",
       "   'name': '成长',\n",
       "   'is_channel': True,\n",
       "   'uri': 'douban://douban.com/channel/30168801'},\n",
       "  {'url': 'https://www.douban.com/channel/30168924',\n",
       "   'id': '30168924',\n",
       "   'name': '文学',\n",
       "   'is_channel': True,\n",
       "   'uri': 'douban://douban.com/channel/30168924'},\n",
       "  {'url': 'https://www.douban.com/channel/30308365',\n",
       "   'id': '30308365',\n",
       "   'name': '经典',\n",
       "   'is_channel': True,\n",
       "   'uri': 'douban://douban.com/channel/30308365'},\n",
       "  {'url': 'https://www.douban.com/channel/30168927',\n",
       "   'id': '30168927',\n",
       "   'name': '外国文学',\n",
       "   'is_channel': True,\n",
       "   'uri': 'douban://douban.com/channel/30168927'},\n",
       "  {'url': 'https://www.douban.com/channel/30168930',\n",
       "   'id': '30168930',\n",
       "   'name': '美国文学',\n",
       "   'is_channel': True,\n",
       "   'uri': 'douban://douban.com/channel/30168930'}],\n",
       " 'price': ['29.00元'],\n",
       " 'translator': ['李继宏'],\n",
       " 'catalog': '第一章\\n第二章\\n第三章\\n第四章\\n第五章\\n第六章\\n第七章\\n第八章\\n第九章\\n第十章\\n第十一章\\n第十二章\\n第十三章\\n第十四章\\n第十五章\\n第十六章\\n第十七章\\n第十八章\\n第十九章\\n第二十章\\n第二十一章\\n第二十二章\\n第二十三章\\n第二十四章\\n第二十五章\\n译后记',\n",
       " 'press': ['上海人民出版社'],\n",
       " 'pages': ['362'],\n",
       " 'sharing_url': 'https://www.douban.com/doubanapp/dispatch?uri=/book/1770782/',\n",
       " 'url': 'https://book.douban.com/subject/1770782/',\n",
       " 'title': '追风筝的人',\n",
       " 'uri': 'douban://douban.com/book/1770782',\n",
       " 'subtype': 'book',\n",
       " 'info_url': 'https://www.douban.com/doubanapp//h5/book/1770782/desc',\n",
       " 'in_blacklist': False,\n",
       " 'has_ebook': False,\n",
       " 'null_rating_reason': ''}"
      ]
     },
     "execution_count": 92,
     "metadata": {},
     "output_type": "execute_result"
    }
   ],
   "source": [
    "js"
   ]
  }
 ],
 "metadata": {
  "kernelspec": {
   "display_name": "Python 3",
   "language": "python",
   "name": "python3"
  },
  "language_info": {
   "codemirror_mode": {
    "name": "ipython",
    "version": 3
   },
   "file_extension": ".py",
   "mimetype": "text/x-python",
   "name": "python",
   "nbconvert_exporter": "python",
   "pygments_lexer": "ipython3",
   "version": "3.7.0"
  }
 },
 "nbformat": 4,
 "nbformat_minor": 2
}
