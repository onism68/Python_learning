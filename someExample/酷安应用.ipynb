{
 "cells": [
  {
   "cell_type": "code",
   "execution_count": 2,
   "metadata": {
    "scrolled": true
   },
   "outputs": [
    {
     "name": "stdout",
     "output_type": "stream",
     "text": [
      "[<div class=\"apk_topbar\">\n",
      "<img src=\"http://image.coolapk.com/apk_logo/2018/0116/ic_launcher-4599-o_1c3v0ii87s26r0benla7q118eq-uid-97100@192x192.png \"/>\n",
      "<div class=\"apk_topba_appinfo\">\n",
      "<div class=\"apk_topbar_mss\">\n",
      "<p class=\"detail_app_title\">酷安<span class=\"list_app_info\">  8.9</span></p>\n",
      "<p class=\"apk_topba_message\">\n",
      "                            22.03M / 5424万下载 / 2.4万人关注 /\n",
      "                            5.4万个评论 / 简体中文</p>\n",
      "<a href=\"javascript:void(0);\" onclick=\"onDownloadApk(4599);\">\n",
      "<button class=\"apk_topbar_btn\">下载APK</button>\n",
      "</a>\n",
      "</div>\n",
      "<div class=\"apk_topba_code\">\n",
      "<img src=\"/qr/image?data=base64:aHR0cHM6Ly93d3cuY29vbGFway5jb20vYXBrL2NvbS5jb29sYXBrLm1hcmtldD9mcm9tPXFy&amp;h=3dd9c107\"/>\n",
      "<p>扫码下载APK</p>\n",
      "</div>\n",
      "</div>\n",
      "</div>] <p class=\"detail_app_title\">酷安<span class=\"list_app_info\">  8.9</span></p>\n"
     ]
    }
   ],
   "source": [
    "import requests\n",
    "import time\n",
    "import json\n",
    "from bs4 import BeautifulSoup\n",
    "\n",
    "\n",
    "def getAppName(page):\n",
    "    url0 = 'https://www.coolapk.com/apk?p={}'\n",
    "    url = url0.format(page)\n",
    "    res = requests.get(url)\n",
    "    data = BeautifulSoup(res.text,'html.parser')\n",
    "    appList = data.select('.app_left_list')[0]('a')\n",
    "    for i in range(len(appList)):\n",
    "        appNameList = appList[i]['href']\n",
    "        appName1 = appNameList.find('/apk/')\n",
    "    #     print(appName1)\n",
    "        if appName1 == 0:\n",
    "            appName = appNameList\n",
    "            print(appName)\n",
    "# getAppName(1)\n",
    "\n",
    "def getAppContent(appName):\n",
    "    urlCon0 = 'https://www.coolapk.com{}'\n",
    "    urlCon = urlCon0.format(appName)\n",
    "    resCon = requests.get(urlCon)\n",
    "    dataCon = BeautifulSoup(resCon.text,'html.parser')\n",
    "    appContent = dataCon.select('.apk_topbar')\n",
    "    appName = appContent[0].select('.detail_app_title')[0]\n",
    "    print(appContent,appName)\n",
    "getAppContent('/apk/com.coolapk.market')"
   ]
  },
  {
   "cell_type": "code",
   "execution_count": 62,
   "metadata": {},
   "outputs": [
    {
     "data": {
      "text/plain": [
       "{'status': 1005,\n",
       " 'message': '请求已过期：你当前的请求时间为【2019-01-13 00:10:28】，比标准时间慢627分钟\\n\\n解决方案：请将你手机的「日期和时间」设置为标准时间'}"
      ]
     },
     "execution_count": 62,
     "metadata": {},
     "output_type": "execute_result"
    }
   ],
   "source": [
    "a = 'https://api.coolapk.com/v6/main/indexV8?page=1&firstItem=9773448' #头条?\n",
    "#a = 'https://api.coolapk.com/v6/user/space?uid=470474' #个人空间\n",
    "\n",
    "b = {\n",
    "    'user-agent': 'Dalvik/2.1.0 (Linux; U; Android 6.0.1; HM2014011 Build/MOB31E) (#Build; Xiaomi; HM2014011; cm_HM2014011-userdebug 6.0.1 MOB31E bdb9819d76 test-keys; 6.0.1) +CoolMarket/8.7',\n",
    "    'x-requested-with': 'XMLHttpRequest',\n",
    "    'x-app-id': 'com.coolapk.market',\n",
    "    'x-app-token': '2f09ed8542e5c6807a1894f989f9a93105d68d4e-1771-3aeb-b96d-6f0333fa27300x5c3a1174',\n",
    "    'x-app-version': '8.7',\n",
    "\n",
    "}\n",
    "#  'x-app-version': '6.10.5',\n",
    "# 'x-app-code': '18090411608192',\n",
    "#d4a38d2aea9422b8d186e0558fbf0324f165d57f-8056-3823-aaec-7ff7f146d1100x5c31b9d6\n",
    "#【2019-01-12 23:59:22】6c94eac549957f9cab985c5f4630d5cd 05d68d4e-1771-3aeb-b96d-6f0333fa27300x5c3a0eda   1547308762\n",
    "#【2019-01-13 00:04:46】2650207173c660a4627092cd55ee5775 05d68d4e-1771-3aeb-b96d-6f0333fa27300x5c3a101e   1547309086\n",
    "#【2019-01-13 00:10:28】2f09ed8542e5c6807a1894f989f9a931 05d68d4e-1771-3aeb-b96d-6f0333fa27300x5c3a1174   1547309428\n",
    "\n",
    "#sha1  b3c9df03a39cc901eecd46ae79a72136ceca5d0f\n",
    "#md5   63df65b798f5d42bee5d7fe17243ee5a\n",
    "\n",
    "ress = requests.get(a,headers = b)\n",
    "jss = json.loads(ress.text)\n",
    "jss"
   ]
  },
  {
   "cell_type": "code",
   "execution_count": 113,
   "metadata": {},
   "outputs": [
    {
     "data": {
      "text/plain": [
       "'2019-01-06 16:43:54'"
      ]
     },
     "execution_count": 113,
     "metadata": {},
     "output_type": "execute_result"
    }
   ],
   "source": [
    "import datetime\n",
    "\n",
    "time1 = datetime.datetime.now().strftime(\"%Y-%m-%d %H:%M:%S\") \n",
    "time1"
   ]
  },
  {
   "cell_type": "code",
   "execution_count": 59,
   "metadata": {},
   "outputs": [
    {
     "data": {
      "text/plain": [
       "32"
      ]
     },
     "execution_count": 59,
     "metadata": {},
     "output_type": "execute_result"
    }
   ],
   "source": [
    "aa = \"1547309428\"\n",
    "aaa = '2f09ed8542e5c6807a1894f989f9a931'\n",
    "len(aaa)"
   ]
  }
 ],
 "metadata": {
  "kernelspec": {
   "display_name": "Python 3",
   "language": "python",
   "name": "python3"
  },
  "language_info": {
   "codemirror_mode": {
    "name": "ipython",
    "version": 3
   },
   "file_extension": ".py",
   "mimetype": "text/x-python",
   "name": "python",
   "nbconvert_exporter": "python",
   "pygments_lexer": "ipython3",
   "version": "3.7.0"
  }
 },
 "nbformat": 4,
 "nbformat_minor": 2
}
