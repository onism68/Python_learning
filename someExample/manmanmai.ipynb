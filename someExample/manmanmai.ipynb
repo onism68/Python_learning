{
 "cells": [
  {
   "cell_type": "code",
   "execution_count": 5,
   "metadata": {},
   "outputs": [
    {
     "data": {
      "text/plain": [
       "'{\"code\":\"600\",\"echo\":\"signature verification failed\"}'"
      ]
     },
     "execution_count": 5,
     "metadata": {},
     "output_type": "execute_result"
    }
   ],
   "source": [
    "import json\n",
    "import requests\n",
    "\n",
    "url = 'https://api.m.jd.com/client.action?functionId=search&clientVersion=7.2.3&build=62796&client=android&d_brand=Xiaomi&d_model=MI6&osVersion=8.0.0&screen=1920*1080&partner=xiaomi001&androidId=60460767c0e70154&installtionId=12544953b93b4f0a909e63c5dbf7753f&sdkVersion=26&lang=en_US&uuid=866146039621523-ecd09fa90a54&area=27_2376_50236_52746&networkType=wifi&wifiBssid=f7a75aa94f77a9e185a2c45f0a326358&st=1541762954201&sign=70cc21cfc952805b711c6d8964678915&sv=121'\n",
    "\n",
    "headers = {\n",
    "    'Host': 'api.m.jd.com',\n",
    "    'Cookie': 'pin=jd_559a13ba5a570; wskey=AAFb4O3GAEBdQ8X5Lfl-AKaOfh_mwqvvlK9aP5Yt9DMpBCip0AXhWwR2V6JC5OG-b14XMMMO4boPHTyaDVFXgO9NQm54Shw-; whwswswws=0725a0fd1c1b76a0361867354617d49db9db3e06ce9cd563b5bdd3be06;',\n",
    "    'charset': 'UTF-8',\n",
    "    'jdc-backup': 'pin=jd_559a13ba5a570; wskey=AAFb4O3GAEBdQ8X5Lfl-AKaOfh_mwqvvlK9aP5Yt9DMpBCip0AXhWwR2V6JC5OG-b14XMMMO4boPHTyaDVFXgO9NQm54Shw-; whwswswws=0725a0fd1c1b76a0361867354617d49db9db3e06ce9cd563b5bdd3be06;',\n",
    "    'cache-control': 'no-cache',\n",
    "    'content-type': 'application/x-www-form-urlencoded; charset=UTF-8',\n",
    "    'user-agent': 'okhttp/3.4.1',\n",
    "}\n",
    "\n",
    "res = requests.get(url,headers = headers)\n",
    "res.text"
   ]
  },
  {
   "cell_type": "code",
   "execution_count": 6,
   "metadata": {},
   "outputs": [
    {
     "data": {
      "text/plain": [
       "[{'spname': '优惠信息',\n",
       "  'spprice': '<p>当前价格：6999</p><p>优惠券：满6000减300</p>',\n",
       "  'dt': '/Date(1542066957000-0000)/',\n",
       "  'infoid': 60198,\n",
       "  'infotype': '1',\n",
       "  'sppic': 'http://a.manmanbuy.com:8013/cuxiaoPic/20173/2017030009084345033.jpg'},\n",
       " {'spname': 'Apple 苹果 iPhone X 智能手机 深空灰色 64GB 全网通版',\n",
       "  'spprice': '6699元包邮',\n",
       "  'dt': '/Date(1541411685733-0000)/',\n",
       "  'infoid': 4139054,\n",
       "  'infotype': '2',\n",
       "  'sppic': 'http://img2019.manmanbuy.com/r_img/img/20181031/19/15e8db3670604d7b97c7051f842e55b2.jpg'},\n",
       " {'spname': '苹果 Apple iPhone X 64G 全网通手机',\n",
       "  'spprice': '6699元 之前最低6799元',\n",
       "  'dt': '/Date(1541002026690-0000)/',\n",
       "  'infoid': 4099046,\n",
       "  'infotype': '2',\n",
       "  'sppic': 'http://img2019.manmanbuy.com/r_img/img/20181101/00/918d9ecccfe34029aba6878330085050.jpg'},\n",
       " {'spname': 'Apple 苹果 iPhone X 智能手机 深空灰色 64GB 全网通版',\n",
       "  'spprice': '6799元',\n",
       "  'dt': '/Date(1540866960473-0000)/',\n",
       "  'infoid': 4085446,\n",
       "  'infotype': '2',\n",
       "  'sppic': 'http://wnzk-img.zuyushop.com/r_img/img/20180129/07/4d0606624d534813a7b1aa4bbcb4160d.jpg'},\n",
       " {'spname': 'Apple 苹果 iPhone X 智能手机 深空灰色 64GB 全网通版',\n",
       "  'spprice': '6699元（需用券）',\n",
       "  'dt': '/Date(1540437477580-0000)/',\n",
       "  'infoid': 4051104,\n",
       "  'infotype': '2',\n",
       "  'sppic': 'http://wnzk-img.zuyushop.com/r_img/img/20180129/07/4d0606624d534813a7b1aa4bbcb4160d.jpg'},\n",
       " {'spname': 'Apple iPhone X (A1865) 64GB 全网通4G手机',\n",
       "  'spprice': '6799元（7099-300）',\n",
       "  'dt': '/Date(1540257678813-0000)/',\n",
       "  'infoid': 406732,\n",
       "  'infotype': '1',\n",
       "  'sppic': 'http://img2017.manmanbuy.com/Thumb_2018100009211881761.jpg'}]"
      ]
     },
     "execution_count": 6,
     "metadata": {},
     "output_type": "execute_result"
    }
   ],
   "source": [
    "headers = {\n",
    "    'User-Agent': 'Mozilla/5.0 (Linux; Android 8.0.0; MI 6 Build/OPR1.170623.027; wv) AppleWebKit/537.36 (KHTML, like Gecko) Version/4.0 Chrome/68.0.3440.91 Mobile Safari/537.36 mmbWebBrowse',\n",
    "    'Charset': 'UTF-8',\n",
    "    'Accept': '*/*',\n",
    "    'Cookie': 'jjkcpnew111=cp45651581_111194554',\n",
    "    'Host': 'apapia-history.manmanbuy.com',\n",
    "    \n",
    "}\n",
    "\n",
    "data = {\n",
    "    \"methodName\":\"getBiJiaInfo_wxsmall\",\n",
    "    \"jsoncallback\":\"%3F\",\n",
    "    \"p_url\":\"http%253A%252F%252Fitem.jd.com%252F5089253.html\",\n",
    "    \"qs\":\"true\",\n",
    "    \"bj\":\"false\",\n",
    "    \"jgzspic\":\"no\",\n",
    "    \"t\":\"1541764015267\",\n",
    "    \"username\":\"\",\n",
    "    \"sign\":\"1541764015253\",\n",
    "    \"c_appver\":\"3.0.5\",\n",
    "    \"c_ostype\":\"android\",\n",
    "    \"c_osver\":\"8.0.0\",\n",
    "    \"c_engver\":\"1.2.84\",\n",
    "    \"c_devtoken\":\"866146039621523\",\n",
    "    \"c_devid\":\"866146039621523\",\n",
    "    \"c_devmodel\":\"MI+6\",\n",
    "    \"c_devtype\":\"phone\",\n",
    "    \"c_operator\":\"E4%B8%AD%E5%9B%BD%E8%81%94%E9%80%9A\",\n",
    "    \"c_contype\":\"wifi\",\n",
    "    \"c_ctrl\":\"w_search_trend_f_content\",\n",
    "    \"c_win\":\"w_360_h_640\",\n",
    "    \"c_dp\":\"3\",\n",
    "    \"c_firstchannel\":\"%E9%85%B7%E5%AE%89\",\n",
    "    \"c_firstquerendate\":\"1541763971383\",\n",
    "    \"c_channel\":\"%E9%85%B7%E5%AE%89\",\n",
    "}\n",
    "\n",
    "url1 = \"https://apapia-history.manmanbuy.com/ChromeWidgetServices/WidgetServices.ashx\"\n",
    "ress = requests.post(url1,headers = headers,data = data)\n",
    "\n",
    "js = json.loads(ress.text)\n",
    "js['zklist']"
   ]
  },
  {
   "cell_type": "code",
   "execution_count": null,
   "metadata": {},
   "outputs": [],
   "source": []
  }
 ],
 "metadata": {
  "kernelspec": {
   "display_name": "Python 3",
   "language": "python",
   "name": "python3"
  },
  "language_info": {
   "codemirror_mode": {
    "name": "ipython",
    "version": 3
   },
   "file_extension": ".py",
   "mimetype": "text/x-python",
   "name": "python",
   "nbconvert_exporter": "python",
   "pygments_lexer": "ipython3",
   "version": "3.7.0"
  }
 },
 "nbformat": 4,
 "nbformat_minor": 2
}
