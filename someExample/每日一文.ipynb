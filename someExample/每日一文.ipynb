{
 "cells": [
  {
   "cell_type": "code",
   "execution_count": 1,
   "metadata": {},
   "outputs": [],
   "source": [
    "import json\n",
    "import requests\n",
    "from bs4 import BeautifulSoup\n",
    "\n",
    "\n",
    "cont = []\n",
    "url = 'https://interface.meiriyiwen.com/article/random?dev=1'\n",
    "res = requests.get(url)\n",
    "js = json.loads(res.text)\n",
    "data = js['data']\n",
    "title = data['title']\n",
    "author = data['author']\n",
    "content1 = data['content']\n",
    "content = BeautifulSoup(content1,'html.parser')\n",
    "content = content.get_text('</n>','<p>')\n",
    "cont.append({\n",
    "    'title': title,\n",
    "    'author': author,\n",
    "    'content': content1,\n",
    "})"
   ]
  },
  {
   "cell_type": "code",
   "execution_count": 2,
   "metadata": {},
   "outputs": [],
   "source": [
    "content2 = cont[0]['content']"
   ]
  },
  {
   "cell_type": "code",
   "execution_count": 3,
   "metadata": {},
   "outputs": [
    {
     "data": {
      "text/plain": [
       "'<p>一个关在铁笼中将要饿死的汉子醒了过来。他知道自己犯了罪，所以才关在那里，但他想不起自己犯了什么罪。</p><p>在十字路口的对面还有两个铁笼；一个铁笼的告示牌上写着“强奸犯”，另一个铁笼的告示牌上写着“谋杀犯”。在强奸犯的铁笼里蜷着一具灰蒙蒙的白骨骷髅；在谋杀犯的铁笼里蹲着一个奄奄一息的老头。</p><p>这个汉子看不到自己铁笼上的告示牌，不知道自己犯了什么罪，就央求对面的老头给他读告示牌。瞧了瞧告示牌和这个汉子之后，老头憎恶地朝他脸上唾了一口。</p><p>几个修女路过，她们为强奸犯祈祷。她们给谋杀犯的老头送上水和食物。可是看了汉子告示牌上的罪行，修女们面无血色，流着泪走开了。</p><p>一个强盗骑马路过，他毫无兴趣地瞥了强奸犯一眼。当他看到杀人犯老头时，他一斧头劈开了铁笼上的锁，把老头放了。</p><p>他来到这个汉子的铁笼前，读着他的罪状。那强盗微微一笑。汉子也朝他微微一笑。强盗端起枪朝汉子的胸口开了一枪。快要咽气的汉子叫喊着：“你得告诉我我干了什么？！”强盗一言不发，策马而去。汉子最后挣扎着问到，“我会下地狱吗？”他临死前听到的是强盗的冷笑声。</p><p>摘自《枕头人》</p>'"
      ]
     },
     "execution_count": 3,
     "metadata": {},
     "output_type": "execute_result"
    }
   ],
   "source": [
    "content2"
   ]
  }
 ],
 "metadata": {
  "kernelspec": {
   "display_name": "Python 3",
   "language": "python",
   "name": "python3"
  },
  "language_info": {
   "codemirror_mode": {
    "name": "ipython",
    "version": 3
   },
   "file_extension": ".py",
   "mimetype": "text/x-python",
   "name": "python",
   "nbconvert_exporter": "python",
   "pygments_lexer": "ipython3",
   "version": "3.7.0"
  }
 },
 "nbformat": 4,
 "nbformat_minor": 2
}
