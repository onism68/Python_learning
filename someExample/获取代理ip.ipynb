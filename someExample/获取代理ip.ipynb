{
 "cells": [
  {
   "cell_type": "code",
   "execution_count": 129,
   "metadata": {},
   "outputs": [
    {
     "name": "stdout",
     "output_type": "stream",
     "text": [
      "111.43.70.58 51547 高匿名 HTTP 黑龙江省牡丹江市  移动 3秒 2018-11-20 06:31:17\n",
      "61.164.39.69 53281 高匿名 HTTP 浙江省杭州市 杭州众望信息技术有限公司 电信 3秒 2018-11-20 05:31:17\n",
      "60.191.201.38 45461 高匿名 HTTP 浙江省金华市  电信 1秒 2018-11-20 04:31:17\n",
      "113.108.242.36 47713 高匿名 HTTP 广东省东莞市  电信 1秒 2018-11-20 03:31:15\n",
      "114.235.22.126 9000 高匿名 HTTP 江苏省徐州市  电信 3秒 2018-11-20 02:31:10\n",
      "106.14.176.162 80 高匿名 HTTP 上海市上海市 阿里云计算有限公司 阿里云 3秒 2018-11-20 01:31:12\n",
      "117.191.11.107 80 高匿名 HTTP 新疆维吾尔自治区伊犁哈萨克自治州  移动 1秒 2018-11-20 00:31:13\n",
      "120.198.76.45 42990 高匿名 HTTP 广东省江门市  移动 3秒 2018-11-19 23:31:09\n",
      "117.131.99.210 53281 高匿名 HTTP 中国 上海 上海 移动 2秒 2018-11-19 22:31:09\n",
      "115.223.251.71 9000 高匿名 HTTP 浙江省温州市  电信 2秒 2018-11-19 21:31:08\n",
      "210.22.160.34 34523 高匿名 HTTP 上海市浦东新区  联通 2秒 2018-11-19 20:31:07\n",
      "58.254.220.116 53579 高匿名 HTTP 广东省惠州市  联通 3秒 2018-11-19 19:31:05\n",
      "202.103.12.30 50356 高匿名 HTTP 湖北省鄂州市  电信 1秒 2018-11-19 18:31:03\n",
      "114.119.116.92 61066 高匿名 HTTP 广东省广州市  联通 2秒 2018-11-19 17:31:03\n",
      "202.199.159.130 40670 高匿名 HTTP 辽宁省大连市 大连大学 教育网 3秒 2018-11-19 16:31:02\n"
     ]
    },
    {
     "name": "stderr",
     "output_type": "stream",
     "text": [
      "/home/anaconda3/lib/python3.7/site-packages/ipykernel_launcher.py:33: DeprecationWarning: insert is deprecated. Use insert_one or insert_many instead.\n"
     ]
    }
   ],
   "source": [
    "\n",
    "import requests\n",
    "from bs4 import BeautifulSoup\n",
    "from pymongo import MongoClient\n",
    "\n",
    "url = 'https://www.kuaidaili.com/free/inha/5/'\n",
    "res = requests.get(url)\n",
    "bs = BeautifulSoup(res.text,'html.parser')\n",
    "bsip = bs.select('tr')\n",
    "\n",
    "\"\"\"\n",
    "IP\n",
    "port\n",
    "匿名度\n",
    "类型\n",
    "位置\n",
    "响应速度\n",
    "最后验证时间\n",
    "\n",
    "\"\"\"\n",
    "conn= MongoClient(host=\"127.0.0.1\",port=27017)\n",
    "db = conn.ip\n",
    "my_set = db.ip001\n",
    "\n",
    "for i in range(1,len(bsip)):\n",
    "    ip = bsip[i]('td')[0].text\n",
    "    port = bsip[i]('td')[1].text\n",
    "    nmd = bsip[i]('td')[2].text\n",
    "    lx = bsip[i]('td')[3].text\n",
    "    wz = bsip[i]('td')[4].text\n",
    "    xysd = bsip[i]('td')[5].text\n",
    "    zhyz = bsip[i]('td')[6].text\n",
    "    my_set.insert({\"ip\":ip,\"port\":port,\"nmd\":nmd,\"lx\":lx,\"wz\":wz,\"xysd\":xysd,\"zhyz\":zhyz})\n",
    "    print(ip,port,nmd,lx,wz,xysd,zhyz)"
   ]
  },
  {
   "cell_type": "code",
   "execution_count": 7,
   "metadata": {},
   "outputs": [
    {
     "name": "stderr",
     "output_type": "stream",
     "text": [
      "/home/anaconda3/lib/python3.7/site-packages/ipykernel_launcher.py:1: DeprecationWarning: remove is deprecated. Use delete_one or delete_many instead.\n",
      "  \"\"\"Entry point for launching an IPython kernel.\n"
     ]
    },
    {
     "data": {
      "text/plain": [
       "{'n': 0, 'ok': 1.0}"
      ]
     },
     "execution_count": 7,
     "metadata": {},
     "output_type": "execute_result"
    }
   ],
   "source": [
    "db.ip001.remove()"
   ]
  },
  {
   "cell_type": "code",
   "execution_count": 168,
   "metadata": {},
   "outputs": [
    {
     "name": "stderr",
     "output_type": "stream",
     "text": [
      "/home/anaconda3/lib/python3.7/site-packages/ipykernel_launcher.py:1: DeprecationWarning: count is deprecated. Use Collection.count_documents instead.\n",
      "  \"\"\"Entry point for launching an IPython kernel.\n"
     ]
    },
    {
     "data": {
      "text/plain": [
       "75"
      ]
     },
     "execution_count": 168,
     "metadata": {},
     "output_type": "execute_result"
    }
   ],
   "source": [
    "my_set.find().count()"
   ]
  },
  {
   "cell_type": "code",
   "execution_count": 167,
   "metadata": {},
   "outputs": [
    {
     "name": "stdout",
     "output_type": "stream",
     "text": [
      "6\n",
      "136.228.128.6 59680\n",
      "{'http': '136.228.128.6:59680'}\n"
     ]
    }
   ],
   "source": [
    "# for i in my_set.find():\n",
    "#     print(i)\n",
    "import numpy as np\n",
    "a = np.random.randint(1,75)\n",
    "print(a)\n",
    "proxie=[]\n",
    "for i in my_set.find()[a-1:a]:\n",
    "    ip = i['ip']\n",
    "    port = i['port']\n",
    "    print(ip,port)\n",
    "    proxie.append({\n",
    "        'http':ip+':'+port,\n",
    "    })\n",
    "    http1 = proxie[0]['http']\n",
    "#     print(http1,port1)\n",
    "    print(proxie[0])"
   ]
  }
 ],
 "metadata": {
  "kernelspec": {
   "display_name": "Python 3",
   "language": "python",
   "name": "python3"
  },
  "language_info": {
   "codemirror_mode": {
    "name": "ipython",
    "version": 3
   },
   "file_extension": ".py",
   "mimetype": "text/x-python",
   "name": "python",
   "nbconvert_exporter": "python",
   "pygments_lexer": "ipython3",
   "version": "3.7.0"
  }
 },
 "nbformat": 4,
 "nbformat_minor": 2
}
