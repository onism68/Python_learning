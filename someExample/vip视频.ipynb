{
 "cells": [
  {
   "cell_type": "code",
   "execution_count": 31,
   "metadata": {},
   "outputs": [
    {
     "name": "stdout",
     "output_type": "stream",
     "text": [
      "e7fa55ee850b937ab3df64ddc8689cf4\n"
     ]
    },
    {
     "data": {
      "text/plain": [
       "'{\"msg\":\"MD5密钥错误~!\"}'"
      ]
     },
     "execution_count": 31,
     "metadata": {},
     "output_type": "execute_result"
    }
   ],
   "source": [
    "import requests\n",
    "import hashlib\n",
    "\n",
    "url = 'https://cdn.yangju.vip/17/url.php'\n",
    "\n",
    "md55 = 'EFBFCB31D5BACE6BB5793A529254424E'\n",
    "md = hashlib.md5()#构造一个md5\n",
    "md.update(md55.encode(encoding='utf-8'))\n",
    "print(md.hexdigest())#加密后的字符串\n",
    "data = {\n",
    "    \"id\": \"www.iqiyi.com/v_19rrf2nw1g.html\",\n",
    "    \"type\": \"auto\",\n",
    "    \"siteuser\": '',\n",
    "    \"md5\":\"ab59c3642a8ab5d647c827133805loij\" ,\n",
    "    \"hd\":\"\",\n",
    "    \"lg\":\"\"    \n",
    "}\n",
    "res = requests.post(url,data = data )\n",
    "res.text\n",
    "# md5 = ab59852fc58ab5d6913ab4c1ff52loij"
   ]
  },
  {
   "cell_type": "code",
   "execution_count": 29,
   "metadata": {},
   "outputs": [
    {
     "data": {
      "text/plain": [
       "'EFBFCB31D5BACE6BB5793A529254424E'"
      ]
     },
     "execution_count": 29,
     "metadata": {},
     "output_type": "execute_result"
    }
   ],
   "source": [
    "from bs4 import BeautifulSoup\n",
    "\n",
    "url = 'https://cdn.yangju.vip/17/?url=https://www.iqiyi.com/v_19rrf2nw1g.html'\n",
    "res = requests.post(url)\n",
    "bs = BeautifulSoup(res.text,'html.parser')\n",
    "bs.select('#hdMd5')[0]['value']"
   ]
  }
 ],
 "metadata": {
  "kernelspec": {
   "display_name": "Python 3",
   "language": "python",
   "name": "python3"
  },
  "language_info": {
   "codemirror_mode": {
    "name": "ipython",
    "version": 3
   },
   "file_extension": ".py",
   "mimetype": "text/x-python",
   "name": "python",
   "nbconvert_exporter": "python",
   "pygments_lexer": "ipython3",
   "version": "3.7.0"
  }
 },
 "nbformat": 4,
 "nbformat_minor": 2
}
