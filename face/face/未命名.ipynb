{
 "cells": [
  {
   "cell_type": "code",
   "execution_count": 3,
   "metadata": {},
   "outputs": [
    {
     "name": "stderr",
     "output_type": "stream",
     "text": [
      "2019-04-25 16:29:00,789 - INFO - icrawler.crawler - start crawling...\n",
      "2019-04-25 16:29:00,790 - INFO - icrawler.crawler - starting 1 feeder threads...\n",
      "2019-04-25 16:29:00,792 - INFO - feeder - thread feeder-001 exit\n",
      "2019-04-25 16:29:00,793 - INFO - icrawler.crawler - starting 2 parser threads...\n",
      "2019-04-25 16:29:00,794 - INFO - icrawler.crawler - starting 4 downloader threads...\n",
      "2019-04-25 16:29:01,498 - INFO - parser - parsing result page https://www.bing.com/images/async?q=蓝心妍&first=0\n",
      "2019-04-25 16:29:01,617 - INFO - downloader - image #1\thttps://gss1.bdstatic.com/9vo3dSag_xI4khGkpoWK1HF6hhy/baike/s%3D500/sign=70b498797b094b36df921bed93cd7c00/8cb1cb13495409239c4d05d89f58d109b3de496b.jpg\n",
      "2019-04-25 16:29:01,617 - INFO - downloader - image #2\thttps://gss3.bdstatic.com/7Po3dSag_xI4khGkpoWK1HF6hhy/baike/crop%3D600%2C0%2C1150%2C1568%3Bw%3D320%3Bq%3D95/sign=badfd3ddf0deb48fef26fb9ecd290a19/d000baa1cd11728b0035c59ecbfcc3cec3fd2c75.jpg\n",
      "2019-04-25 16:29:01,637 - INFO - downloader - image #3\thttps://gss1.bdstatic.com/-vo3dSag_xI4khGkpoWK1HF6hhy/baike/s%3D500/sign=07c604ba1cdfa9ecf92e561752d1f754/d52a2834349b033baea09a7c18ce36d3d539bd68.jpg\n",
      "2019-04-25 16:29:01,685 - INFO - downloader - image #4\thttps://gss2.bdstatic.com/-fo3dSag_xI4khGkpoWK1HF6hhy/baike/s%3D220/sign=3d184e605cafa40f38c6c9df9b65038c/a8014c086e061d954493ce6a7df40ad163d9ca8f.jpg\n",
      "2019-04-25 16:29:01,702 - INFO - downloader - image #5\thttps://gss1.bdstatic.com/-vo3dSag_xI4khGkpoWK1HF6hhy/baike/s%3D220/sign=9e2d042745a98226bcc12c25ba83b97a/622762d0f703918fd505bb98573d269758eec488.jpg\n",
      "2019-04-25 16:29:01,716 - INFO - downloader - image #6\thttps://mu1.sinaimg.cn/frame.180x240/weiyinyue.music.sina.com.cn/movie_poster/176994_vertical.jpg\n",
      "2019-04-25 16:29:01,725 - INFO - downloader - image #7\thttps://gss2.bdstatic.com/-fo3dSag_xI4khGkpoWK1HF6hhy/baike/crop%3D0%2C0%2C690%2C940%3Bh%3D436%3Bq%3D95/sign=2c01f662f1d3572c72adc69cb7234f17/a686c9177f3e6709efede47438c79f3df9dc554f.jpg\n",
      "2019-04-25 16:29:01,739 - INFO - downloader - image #8\thttps://gss1.bdstatic.com/-vo3dSag_xI4khGkpoWK1HF6hhy/baike/crop%3D616%2C0%2C1174%2C1600%3Bw%3D320%3Bq%3D95/sign=0643adee4836acaf4dafccbc41efbc26/d058ccbf6c81800ad47467d9b23533fa838b4750.jpg\n",
      "2019-04-25 16:29:01,800 - INFO - downloader - image #9\thttps://gss0.bdstatic.com/94o3dSag_xI4khGkpoWK1HF6hhy/baike/crop%3D0%2C0%2C567%2C772%3Bh%3D436%3Bq%3D95/sign=cc07fa3d359b033b38c7a69a28fe1ae3/43a7d933c895d143b566031a72f082025aaf07f2.jpg\n",
      "2019-04-25 16:29:01,801 - INFO - downloader - image #10\thttps://gss0.bdstatic.com/94o3dSag_xI4khGkpoWK1HF6hhy/baike/crop%3D0%2C0%2C400%2C545%3Bh%3D436%3Bq%3D95/sign=c1f308c186025aafc77d248bc6dd8754/a6efce1b9d16fdfabfb188efb08f8c5495ee7bd5.jpg\n",
      "2019-04-25 16:29:01,818 - INFO - downloader - downloaded images reach max num, thread downloader-003 is ready to exit\n",
      "2019-04-25 16:29:01,820 - INFO - downloader - thread downloader-003 exit\n",
      "2019-04-25 16:29:01,843 - INFO - downloader - downloaded images reach max num, thread downloader-001 is ready to exit\n",
      "2019-04-25 16:29:01,844 - INFO - downloader - thread downloader-001 exit\n",
      "2019-04-25 16:29:01,984 - INFO - downloader - downloaded images reach max num, thread downloader-002 is ready to exit\n",
      "2019-04-25 16:29:01,985 - INFO - downloader - thread downloader-002 exit\n",
      "2019-04-25 16:29:02,794 - INFO - parser - no more page urls for thread parser-002 to parse\n",
      "2019-04-25 16:29:02,796 - INFO - parser - thread parser-002 exit\n",
      "2019-04-25 16:29:03,818 - INFO - parser - downloaded image reached max num, thread parser-001 is ready to exit\n",
      "2019-04-25 16:29:03,820 - INFO - parser - thread parser-001 exit\n",
      "2019-04-25 16:29:06,835 - INFO - downloader - downloaded images reach max num, thread downloader-004 is ready to exit\n",
      "2019-04-25 16:29:06,838 - INFO - downloader - thread downloader-004 exit\n",
      "2019-04-25 16:29:07,810 - INFO - icrawler.crawler - Crawling task done!\n",
      "2019-04-25 16:29:07,825 - INFO - icrawler.crawler - start crawling...\n",
      "2019-04-25 16:29:07,825 - INFO - icrawler.crawler - starting 1 feeder threads...\n",
      "2019-04-25 16:29:07,826 - INFO - feeder - thread feeder-001 exit\n",
      "2019-04-25 16:29:07,827 - INFO - icrawler.crawler - starting 2 parser threads...\n",
      "2019-04-25 16:29:07,837 - INFO - icrawler.crawler - starting 4 downloader threads...\n"
     ]
    },
    {
     "name": "stdout",
     "output_type": "stream",
     "text": [
      "第0位明星：蓝心妍\n"
     ]
    },
    {
     "name": "stderr",
     "output_type": "stream",
     "text": [
      "2019-04-25 16:29:09,837 - INFO - parser - no more page urls for thread parser-002 to parse\n",
      "2019-04-25 16:29:09,841 - INFO - parser - thread parser-002 exit\n",
      "2019-04-25 16:29:12,839 - INFO - downloader - downloader-001 is waiting for new download tasks\n",
      "2019-04-25 16:29:12,843 - INFO - downloader - downloader-002 is waiting for new download tasks\n",
      "2019-04-25 16:29:12,848 - INFO - downloader - downloader-004 is waiting for new download tasks\n",
      "2019-04-25 16:29:12,851 - INFO - downloader - downloader-003 is waiting for new download tasks\n",
      "2019-04-25 16:29:13,440 - INFO - parser - parsing result page https://www.bing.com/images/async?q=周震南&first=0\n",
      "2019-04-25 16:29:13,606 - INFO - downloader - image #1\thttp://image.ijq.tv/201712/01/14-47-46-91-39.jpg\n",
      "2019-04-25 16:29:13,864 - INFO - downloader - image #2\thttps://image.ijq.tv/201712/01/14-43-35-76-39.jpg\n",
      "2019-04-25 16:29:14,327 - INFO - downloader - image #3\thttps://uploadfile.bizhizu.cn/up/63/10/c3/6310c38dff2fb77f34eaea7f519fcf64.jpg\n",
      "2019-04-25 16:29:14,813 - INFO - downloader - image #4\thttp://image.ijq.tv/201712/01/13-40-36-70-39.jpg\n",
      "2019-04-25 16:29:18,519 - INFO - downloader - image #5\thttps://i2.hdslb.com/bfs/archive/226acce994f5b00f25957338bff585f5d87f48a4.jpg\n",
      "2019-04-25 16:29:18,594 - INFO - downloader - image #6\thttp://image.ijq.tv/201712/01/14-44-13-56-39.jpg\n",
      "2019-04-25 16:29:18,649 - INFO - downloader - image #7\thttps://pic4.zhimg.com/80/v2-89d965516f177a5ccdac0a3077958547_qhd.jpg\n",
      "2019-04-25 16:29:18,668 - ERROR - downloader - Exception caught when downloading file http://moviepic.manmankan.com/yybpic/yanyuan/pic/26510/342605_s.jpg, error: ('Connection aborted.', RemoteDisconnected('Remote end closed connection without response')), remaining retry times: 2\n",
      "2019-04-25 16:29:18,794 - INFO - downloader - image #8\thttp://image.ijq.tv/201712/01/14-43-26-91-39.jpg\n",
      "2019-04-25 16:29:18,808 - ERROR - downloader - Exception caught when downloading file http://moviepic.manmankan.com/yybpic/yanyuan/pic/26510/342605_s.jpg, error: ('Connection aborted.', RemoteDisconnected('Remote end closed connection without response')), remaining retry times: 1\n",
      "2019-04-25 16:29:18,919 - ERROR - downloader - Exception caught when downloading file http://moviepic.manmankan.com/yybpic/yanyuan/pic/26510/342605_s.jpg, error: ('Connection aborted.', RemoteDisconnected('Remote end closed connection without response')), remaining retry times: 0\n",
      "2019-04-25 16:29:18,985 - INFO - downloader - image #9\thttp://p.store.itangyuan.com/p/book/cover/EgAwe_2Uegb/Eg6SetASE_jseBfteBIU4GulKcHdg6ot3f.jpg\n",
      "2019-04-25 16:29:19,037 - INFO - downloader - image #10\thttp://n.sinaimg.cn/ent/transform/20170808/rm2X-fyitpmh4546252.jpg\n",
      "2019-04-25 16:29:19,133 - INFO - downloader - downloaded images reach max num, thread downloader-003 is ready to exit\n",
      "2019-04-25 16:29:19,134 - INFO - downloader - thread downloader-003 exit\n",
      "2019-04-25 16:29:19,213 - INFO - downloader - downloaded images reach max num, thread downloader-004 is ready to exit\n",
      "2019-04-25 16:29:19,214 - INFO - downloader - thread downloader-004 exit\n",
      "2019-04-25 16:29:19,392 - INFO - downloader - downloaded images reach max num, thread downloader-001 is ready to exit\n",
      "2019-04-25 16:29:19,394 - INFO - downloader - thread downloader-001 exit\n",
      "2019-04-25 16:29:19,883 - INFO - downloader - downloaded images reach max num, thread downloader-002 is ready to exit\n",
      "2019-04-25 16:29:19,885 - INFO - downloader - thread downloader-002 exit\n",
      "2019-04-25 16:29:20,859 - INFO - icrawler.crawler - Crawling task done!\n",
      "2019-04-25 16:29:20,862 - INFO - icrawler.crawler - start crawling...\n",
      "2019-04-25 16:29:20,864 - INFO - icrawler.crawler - starting 1 feeder threads...\n",
      "2019-04-25 16:29:20,871 - INFO - feeder - thread feeder-001 exit\n",
      "2019-04-25 16:29:20,871 - INFO - icrawler.crawler - starting 2 parser threads...\n",
      "2019-04-25 16:29:20,884 - INFO - icrawler.crawler - starting 4 downloader threads...\n",
      "2019-04-25 16:29:21,040 - INFO - parser - no more page urls for thread parser-001 to parse\n",
      "2019-04-25 16:29:21,042 - INFO - parser - thread parser-001 exit\n"
     ]
    },
    {
     "name": "stdout",
     "output_type": "stream",
     "text": [
      "第1位明星：周震南\n"
     ]
    },
    {
     "name": "stderr",
     "output_type": "stream",
     "text": [
      "2019-04-25 16:29:21,529 - INFO - parser - parsing result page https://www.bing.com/images/async?q=陈伟霆&first=0\n",
      "2019-04-25 16:29:21,830 - INFO - downloader - image #1\thttp://n.sinaimg.cn/transform/20150215/nBpE-chmifpx8132375.jpg\n",
      "2019-04-25 16:29:22,131 - INFO - downloader - image #2\thttp://pic.baike.soso.com/p/20131231/20131231161950-302140550.jpg\n",
      "2019-04-25 16:29:22,265 - INFO - downloader - image #3\thttp://img15.3lian.com/2015/f3/02/d/63.jpg\n",
      "2019-04-25 16:29:22,522 - INFO - downloader - image #4\thttp://img3.cache.netease.com/ent/2015/3/16/201503161219500b311_550.jpg\n",
      "2019-04-25 16:29:22,560 - INFO - downloader - image #5\thttp://a3.att.hudong.com/13/62/01300000433093124871626867610.jpg\n",
      "2019-04-25 16:29:22,596 - INFO - downloader - image #6\thttp://www.faxingtupian.com/p/allimg/141108/1-14110R10514.jpg\n",
      "2019-04-25 16:29:22,813 - INFO - downloader - image #7\thttp://images.china.cn/attachement/jpg/site1000/20141105/c03fd55e3b6d15c3c8380d.jpg\n",
      "2019-04-25 16:29:22,825 - INFO - downloader - image #8\thttp://img15.3lian.com/2015/f3/02/d/64.jpg\n",
      "2019-04-25 16:29:22,843 - INFO - downloader - image #9\thttp://img15.3lian.com/2015/f3/02/d/58.jpg\n",
      "2019-04-25 16:29:22,892 - INFO - parser - no more page urls for thread parser-002 to parse\n",
      "2019-04-25 16:29:22,894 - INFO - parser - thread parser-002 exit\n",
      "2019-04-25 16:29:23,053 - INFO - downloader - image #10\thttps://img3.doubanio.com/img/celebrity/large/1409055274.95.jpg\n",
      "2019-04-25 16:29:23,155 - INFO - downloader - downloaded images reach max num, thread downloader-002 is ready to exit\n",
      "2019-04-25 16:29:23,156 - INFO - downloader - thread downloader-002 exit\n",
      "2019-04-25 16:29:23,170 - INFO - downloader - downloaded images reach max num, thread downloader-004 is ready to exit\n",
      "2019-04-25 16:29:23,171 - INFO - downloader - thread downloader-004 exit\n",
      "2019-04-25 16:29:23,268 - INFO - downloader - downloaded images reach max num, thread downloader-003 is ready to exit\n",
      "2019-04-25 16:29:23,269 - INFO - downloader - thread downloader-003 exit\n",
      "2019-04-25 16:29:25,056 - INFO - parser - downloaded image reached max num, thread parser-001 is ready to exit\n",
      "2019-04-25 16:29:25,058 - INFO - parser - thread parser-001 exit\n",
      "2019-04-25 16:29:25,147 - INFO - downloader - downloaded images reach max num, thread downloader-001 is ready to exit\n",
      "2019-04-25 16:29:25,149 - INFO - downloader - thread downloader-001 exit\n",
      "2019-04-25 16:29:25,900 - INFO - icrawler.crawler - Crawling task done!\n",
      "2019-04-25 16:29:25,912 - INFO - icrawler.crawler - start crawling...\n",
      "2019-04-25 16:29:25,913 - INFO - icrawler.crawler - starting 1 feeder threads...\n",
      "2019-04-25 16:29:25,932 - INFO - feeder - thread feeder-001 exit\n",
      "2019-04-25 16:29:25,933 - INFO - icrawler.crawler - starting 2 parser threads...\n",
      "2019-04-25 16:29:25,938 - INFO - icrawler.crawler - starting 4 downloader threads...\n"
     ]
    },
    {
     "name": "stdout",
     "output_type": "stream",
     "text": [
      "第2位明星：陈伟霆\n"
     ]
    },
    {
     "name": "stderr",
     "output_type": "stream",
     "text": [
      "2019-04-25 16:29:26,636 - INFO - parser - parsing result page https://www.bing.com/images/async?q=鹿晗&first=0\n",
      "2019-04-25 16:29:26,739 - INFO - downloader - image #1\thttp://a3.att.hudong.com/63/29/01300000246938134473298177502.jpg\n",
      "2019-04-25 16:29:26,780 - ERROR - downloader - Response status code 400, file http://pic.baike.soso.com/ugc/baikepic2/19734/20170326204912-339368838.jpg\n",
      "2019-04-25 16:29:26,824 - INFO - downloader - image #2\thttp://pic.365j.com/file/201705/27/7db90aabd4.jpg\n",
      "2019-04-25 16:29:26,840 - INFO - downloader - image #3\thttp://aliyunimg.9ku.com/9kuimg/geshou/20160420/2f87fdb70cf2c5bf.jpg\n",
      "2019-04-25 16:29:26,850 - INFO - downloader - image #4\thttp://pic.baike.soso.com/p/20140322/20140322224420-89820097.jpg\n",
      "2019-04-25 16:29:26,878 - INFO - downloader - image #5\thttp://i1.sinaimg.cn/ent/y/k/2014-10-10/U9990P28T3D4221839F326DT20141010134641.jpg\n",
      "2019-04-25 16:29:26,909 - INFO - downloader - image #6\thttp://c.hiphotos.baidu.com/zhidao/pic/item/023b5bb5c9ea15cedc9ebba7b6003af33a87b228.jpg\n",
      "2019-04-25 16:29:26,959 - INFO - downloader - image #7\thttp://i3.sinaimg.cn/ent/s/j/w/2013-07-17/U5911P28T3D3966639F326DT20130717231459.jpg\n",
      "2019-04-25 16:29:27,016 - INFO - downloader - image #8\thttp://img3.cache.netease.com/house/2015/2/4/20150204155327546c9.jpg\n",
      "2019-04-25 16:29:27,106 - INFO - downloader - image #9\thttp://i9.qhimg.com/t011d96d6cf230a9c4b.jpg\n",
      "2019-04-25 16:29:27,110 - INFO - downloader - image #10\thttp://img1.cache.netease.com/ent/2015/11/27/20151127102256815cb_550.jpg\n",
      "2019-04-25 16:29:27,112 - INFO - downloader - downloaded images reach max num, thread downloader-003 is ready to exit\n",
      "2019-04-25 16:29:27,113 - INFO - downloader - downloaded images reach max num, thread downloader-002 is ready to exit\n",
      "2019-04-25 16:29:27,113 - INFO - downloader - thread downloader-003 exit\n",
      "2019-04-25 16:29:27,114 - INFO - downloader - thread downloader-002 exit\n",
      "2019-04-25 16:29:27,325 - INFO - downloader - downloaded images reach max num, thread downloader-001 is ready to exit\n",
      "2019-04-25 16:29:27,326 - INFO - downloader - thread downloader-001 exit\n",
      "2019-04-25 16:29:27,413 - INFO - downloader - downloaded images reach max num, thread downloader-004 is ready to exit\n",
      "2019-04-25 16:29:27,414 - INFO - downloader - thread downloader-004 exit\n",
      "2019-04-25 16:29:27,938 - INFO - parser - no more page urls for thread parser-002 to parse\n",
      "2019-04-25 16:29:27,940 - INFO - parser - thread parser-002 exit\n",
      "2019-04-25 16:29:27,945 - INFO - icrawler.crawler - Crawling task done!\n",
      "2019-04-25 16:29:27,948 - INFO - icrawler.crawler - start crawling...\n",
      "2019-04-25 16:29:27,949 - INFO - icrawler.crawler - starting 1 feeder threads...\n",
      "2019-04-25 16:29:27,951 - INFO - feeder - thread feeder-001 exit\n",
      "2019-04-25 16:29:27,952 - INFO - icrawler.crawler - starting 2 parser threads...\n",
      "2019-04-25 16:29:27,960 - INFO - icrawler.crawler - starting 4 downloader threads...\n",
      "2019-04-25 16:29:28,111 - INFO - parser - downloaded image reached max num, thread parser-001 is ready to exit\n",
      "2019-04-25 16:29:28,112 - INFO - parser - thread parser-001 exit\n"
     ]
    },
    {
     "name": "stdout",
     "output_type": "stream",
     "text": [
      "第3位明星：鹿晗\n"
     ]
    },
    {
     "name": "stderr",
     "output_type": "stream",
     "text": [
      "2019-04-25 16:29:28,617 - INFO - parser - parsing result page https://www.bing.com/images/async?q=刘诗诗&first=0\n",
      "2019-04-25 16:29:28,769 - INFO - downloader - image #1\thttp://pic22.nipic.com/20120716/9053618_104804574116_2.jpg\n",
      "2019-04-25 16:29:28,802 - INFO - downloader - image #2\thttp://pic10.nipic.com/20101031/1951702_154255012135_2.jpg\n",
      "2019-04-25 16:29:28,870 - INFO - downloader - image #3\thttp://pic10.nipic.com/20101031/1951702_154111056220_2.jpg\n",
      "2019-04-25 16:29:28,898 - INFO - downloader - image #4\thttp://img3.a0bi.com/upload/articleResource/20160408/1460056312932.jpg\n",
      "2019-04-25 16:29:28,995 - INFO - downloader - image #5\thttp://i3.sinaimg.cn/ent/s/m/2014-11-04/U8551P28T3D4235408F326DT20141104180056.jpg\n",
      "2019-04-25 16:29:29,012 - INFO - downloader - image #6\thttp://d.paper.i4.cn/max/2016/11/24/14/1479968642851_557265.jpg\n",
      "2019-04-25 16:29:29,198 - INFO - downloader - image #7\thttp://n.sinaimg.cn/fashion/transform/20160815/WRiR-fxuxnah3545058.jpg\n",
      "2019-04-25 16:29:29,212 - INFO - downloader - image #8\thttp://star.xiziwang.net/uploads/allimg/140306/20_140306133843_5.jpg\n",
      "2019-04-25 16:29:29,220 - INFO - downloader - image #9\thttp://img5.cache.netease.com/photo/0003/2013-08-16/96DMOG3F00AJ0003.jpg\n",
      "2019-04-25 16:29:29,290 - INFO - downloader - image #10\thttp://i1.hunantv.com/p1/20120707/1032402901.jpg\n",
      "2019-04-25 16:29:29,338 - INFO - downloader - downloaded images reach max num, thread downloader-001 is ready to exit\n",
      "2019-04-25 16:29:29,339 - INFO - downloader - thread downloader-001 exit\n",
      "2019-04-25 16:29:29,347 - INFO - downloader - downloaded images reach max num, thread downloader-003 is ready to exit\n",
      "2019-04-25 16:29:29,347 - INFO - downloader - thread downloader-003 exit\n",
      "2019-04-25 16:29:29,352 - INFO - downloader - downloaded images reach max num, thread downloader-004 is ready to exit\n",
      "2019-04-25 16:29:29,355 - INFO - downloader - thread downloader-004 exit\n",
      "2019-04-25 16:29:29,413 - INFO - downloader - downloaded images reach max num, thread downloader-002 is ready to exit\n",
      "2019-04-25 16:29:29,413 - INFO - downloader - thread downloader-002 exit\n",
      "2019-04-25 16:29:29,960 - INFO - parser - no more page urls for thread parser-002 to parse\n",
      "2019-04-25 16:29:29,962 - INFO - parser - thread parser-002 exit\n",
      "2019-04-25 16:29:29,971 - INFO - icrawler.crawler - Crawling task done!\n",
      "2019-04-25 16:29:29,973 - INFO - icrawler.crawler - start crawling...\n",
      "2019-04-25 16:29:29,974 - INFO - icrawler.crawler - starting 1 feeder threads...\n",
      "2019-04-25 16:29:29,976 - INFO - feeder - thread feeder-001 exit\n",
      "2019-04-25 16:29:29,977 - INFO - icrawler.crawler - starting 2 parser threads...\n",
      "2019-04-25 16:29:29,986 - INFO - icrawler.crawler - starting 4 downloader threads...\n"
     ]
    },
    {
     "name": "stdout",
     "output_type": "stream",
     "text": [
      "第4位明星：刘诗诗\n"
     ]
    },
    {
     "name": "stderr",
     "output_type": "stream",
     "text": [
      "2019-04-25 16:29:30,296 - INFO - parser - downloaded image reached max num, thread parser-001 is ready to exit\n",
      "2019-04-25 16:29:30,298 - INFO - parser - thread parser-001 exit\n",
      "2019-04-25 16:29:30,563 - INFO - parser - parsing result page https://www.bing.com/images/async?q=张馨予&first=0\n",
      "2019-04-25 16:29:30,794 - INFO - downloader - image #1\thttp://pic12.nipic.com/20110226/1951702_145140386109_2.jpg\n",
      "2019-04-25 16:29:30,798 - INFO - downloader - image #2\thttps://p1.ssl.qhmsg.com/t0139aae90e574e6a3a.jpg\n",
      "2019-04-25 16:29:30,870 - INFO - downloader - image #3\thttp://i8.qhimg.com/t01e4d8f4f348bc9438.jpg\n",
      "2019-04-25 16:29:31,078 - INFO - downloader - image #4\thttp://img.ixiumei.com/uploadfile/2017/1103/20171103121208219.jpg\n",
      "2019-04-25 16:29:31,120 - INFO - downloader - image #5\thttp://n.sinaimg.cn/fashion/transform/20151123/EaCQ-fxkwuzu0634050.jpg\n",
      "2019-04-25 16:29:31,201 - INFO - downloader - image #6\thttp://imgs.jushuo.com/dimg/2016-09-12/57d64a7cf2a82.jpg\n",
      "2019-04-25 16:29:31,464 - INFO - downloader - image #7\thttp://n.sinaimg.cn/ent/transform/20161115/4mDM-fxxsmih9730872.jpg\n",
      "2019-04-25 16:29:31,661 - INFO - downloader - image #8\thttp://gb.cri.cn/mmsource/images/2014/07/02/7/9320552194749038843.jpg\n",
      "2019-04-25 16:29:31,707 - INFO - downloader - image #9\thttp://img.article.pchome.net/00/49/63/68/pic_lib/wm/Zhangxinyu04.jpg\n",
      "2019-04-25 16:29:31,717 - INFO - downloader - image #10\thttp://gb.cri.cn/mmsource/images/2014/08/30/93/960235996346373933.jpg\n",
      "2019-04-25 16:29:31,800 - INFO - downloader - downloaded images reach max num, thread downloader-004 is ready to exit\n",
      "2019-04-25 16:29:31,800 - INFO - downloader - thread downloader-004 exit\n",
      "2019-04-25 16:29:31,922 - INFO - downloader - downloaded images reach max num, thread downloader-003 is ready to exit\n",
      "2019-04-25 16:29:31,925 - INFO - downloader - thread downloader-003 exit\n",
      "2019-04-25 16:29:31,949 - INFO - downloader - downloaded images reach max num, thread downloader-001 is ready to exit\n",
      "2019-04-25 16:29:31,950 - INFO - downloader - thread downloader-001 exit\n",
      "2019-04-25 16:29:31,986 - INFO - parser - no more page urls for thread parser-002 to parse\n",
      "2019-04-25 16:29:31,988 - INFO - parser - thread parser-002 exit\n",
      "2019-04-25 16:29:33,721 - INFO - parser - downloaded image reached max num, thread parser-001 is ready to exit\n",
      "2019-04-25 16:29:33,722 - INFO - parser - thread parser-001 exit\n"
     ]
    },
    {
     "ename": "KeyboardInterrupt",
     "evalue": "",
     "output_type": "error",
     "traceback": [
      "\u001b[0;31m---------------------------------------------------------------------------\u001b[0m",
      "\u001b[0;31mKeyboardInterrupt\u001b[0m                         Traceback (most recent call last)",
      "\u001b[0;32m<ipython-input-3-85adbd90032c>\u001b[0m in \u001b[0;36m<module>\u001b[0;34m\u001b[0m\n\u001b[1;32m     11\u001b[0m     \u001b[0mbing_storage\u001b[0m \u001b[0;34m=\u001b[0m \u001b[0;34m{\u001b[0m\u001b[0;34m'root_dir'\u001b[0m\u001b[0;34m:\u001b[0m \u001b[0mfile_path\u001b[0m\u001b[0;34m}\u001b[0m\u001b[0;34m\u001b[0m\u001b[0;34m\u001b[0m\u001b[0m\n\u001b[1;32m     12\u001b[0m     \u001b[0mbing_crawler\u001b[0m \u001b[0;34m=\u001b[0m \u001b[0mBingImageCrawler\u001b[0m\u001b[0;34m(\u001b[0m\u001b[0mparser_threads\u001b[0m\u001b[0;34m=\u001b[0m\u001b[0;36m2\u001b[0m\u001b[0;34m,\u001b[0m \u001b[0mdownloader_threads\u001b[0m\u001b[0;34m=\u001b[0m\u001b[0;36m4\u001b[0m\u001b[0;34m,\u001b[0m \u001b[0mstorage\u001b[0m\u001b[0;34m=\u001b[0m\u001b[0mbing_storage\u001b[0m\u001b[0;34m)\u001b[0m\u001b[0;34m\u001b[0m\u001b[0;34m\u001b[0m\u001b[0m\n\u001b[0;32m---> 13\u001b[0;31m     \u001b[0mbing_crawler\u001b[0m\u001b[0;34m.\u001b[0m\u001b[0mcrawl\u001b[0m\u001b[0;34m(\u001b[0m\u001b[0mkeyword\u001b[0m\u001b[0;34m=\u001b[0m\u001b[0mname\u001b[0m\u001b[0;34m,\u001b[0m \u001b[0mmax_num\u001b[0m\u001b[0;34m=\u001b[0m\u001b[0;36m10\u001b[0m\u001b[0;34m)\u001b[0m\u001b[0;34m\u001b[0m\u001b[0;34m\u001b[0m\u001b[0m\n\u001b[0m\u001b[1;32m     14\u001b[0m     \u001b[0mprint\u001b[0m\u001b[0;34m(\u001b[0m\u001b[0;34m'第{}位明星：{}'\u001b[0m\u001b[0;34m.\u001b[0m\u001b[0mformat\u001b[0m\u001b[0;34m(\u001b[0m\u001b[0mi\u001b[0m\u001b[0;34m,\u001b[0m \u001b[0mname\u001b[0m\u001b[0;34m)\u001b[0m\u001b[0;34m)\u001b[0m\u001b[0;34m\u001b[0m\u001b[0;34m\u001b[0m\u001b[0m\n",
      "\u001b[0;32m~/.local/lib/python3.7/site-packages/icrawler/builtin/bing.py\u001b[0m in \u001b[0;36mcrawl\u001b[0;34m(self, keyword, filters, offset, max_num, min_size, max_size, file_idx_offset, overwrite)\u001b[0m\n\u001b[1;32m    172\u001b[0m             overwrite=overwrite)\n\u001b[1;32m    173\u001b[0m         super(BingImageCrawler, self).crawl(\n\u001b[0;32m--> 174\u001b[0;31m             feeder_kwargs=feeder_kwargs, downloader_kwargs=downloader_kwargs)\n\u001b[0m",
      "\u001b[0;32m~/.local/lib/python3.7/site-packages/icrawler/crawler.py\u001b[0m in \u001b[0;36mcrawl\u001b[0;34m(self, feeder_kwargs, parser_kwargs, downloader_kwargs)\u001b[0m\n\u001b[1;32m    193\u001b[0m             \u001b[0;32mif\u001b[0m \u001b[0;32mnot\u001b[0m \u001b[0mself\u001b[0m\u001b[0;34m.\u001b[0m\u001b[0mdownloader\u001b[0m\u001b[0;34m.\u001b[0m\u001b[0mis_alive\u001b[0m\u001b[0;34m(\u001b[0m\u001b[0;34m)\u001b[0m\u001b[0;34m:\u001b[0m\u001b[0;34m\u001b[0m\u001b[0;34m\u001b[0m\u001b[0m\n\u001b[1;32m    194\u001b[0m                 \u001b[0;32mbreak\u001b[0m\u001b[0;34m\u001b[0m\u001b[0;34m\u001b[0m\u001b[0m\n\u001b[0;32m--> 195\u001b[0;31m             \u001b[0mtime\u001b[0m\u001b[0;34m.\u001b[0m\u001b[0msleep\u001b[0m\u001b[0;34m(\u001b[0m\u001b[0;36m1\u001b[0m\u001b[0;34m)\u001b[0m\u001b[0;34m\u001b[0m\u001b[0;34m\u001b[0m\u001b[0m\n\u001b[0m\u001b[1;32m    196\u001b[0m \u001b[0;34m\u001b[0m\u001b[0m\n\u001b[1;32m    197\u001b[0m         \u001b[0;32mif\u001b[0m \u001b[0;32mnot\u001b[0m \u001b[0mself\u001b[0m\u001b[0;34m.\u001b[0m\u001b[0mfeeder\u001b[0m\u001b[0;34m.\u001b[0m\u001b[0min_queue\u001b[0m\u001b[0;34m.\u001b[0m\u001b[0mempty\u001b[0m\u001b[0;34m(\u001b[0m\u001b[0;34m)\u001b[0m\u001b[0;34m:\u001b[0m\u001b[0;34m\u001b[0m\u001b[0;34m\u001b[0m\u001b[0m\n",
      "\u001b[0;31mKeyboardInterrupt\u001b[0m: "
     ]
    }
   ],
   "source": [
    "import os\n",
    "from icrawler.builtin import BingImageCrawler\n",
    "path = \"./BingImage\"\n",
    "f = open('../starName.txt', 'r')\n",
    "lines = f.readlines()\n",
    "for i, line in enumerate(lines):\n",
    "    name = line.strip('\\n')\n",
    "    file_path = os.path.join(path, name)\n",
    "    if not os.path.exists(file_path):\n",
    "        os.makedirs(file_path)\n",
    "    bing_storage = {'root_dir': file_path}\n",
    "    bing_crawler = BingImageCrawler(parser_threads=2, downloader_threads=4, storage=bing_storage)\n",
    "    bing_crawler.crawl(keyword=name, max_num=10)\n",
    "    print('第{}位明星：{}'.format(i, name))"
   ]
  },
  {
   "cell_type": "code",
   "execution_count": null,
   "metadata": {},
   "outputs": [],
   "source": []
  }
 ],
 "metadata": {
  "kernelspec": {
   "display_name": "Python 3",
   "language": "python",
   "name": "python3"
  },
  "language_info": {
   "codemirror_mode": {
    "name": "ipython",
    "version": 3
   },
   "file_extension": ".py",
   "mimetype": "text/x-python",
   "name": "python",
   "nbconvert_exporter": "python",
   "pygments_lexer": "ipython3",
   "version": "3.7.3"
  }
 },
 "nbformat": 4,
 "nbformat_minor": 2
}
