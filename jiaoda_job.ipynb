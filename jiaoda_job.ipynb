{
 "cells": [
  {
   "cell_type": "code",
   "execution_count": 2,
   "metadata": {},
   "outputs": [],
   "source": [
    "import json\n",
    "import math\n",
    "import requests\n",
    "from bs4 import BeautifulSoup\n",
    "\n",
    "\n",
    "\n",
    "jobs_total = []\n",
    "\n",
    "def get_xjhlist(schoolid):\n",
    "    get_xjhlist_url_1 = 'https://appso.yingjiesheng.com/xjhlist?keyword=&schoolid={}&provinceid=22&page={}&pernum=100&version=310&rtime=1540610713&rsign=35a417b3ad65d209bf181d998c848f81'\n",
    "    get_xjhlist_url_2 = get_xjhlist_url_1.format(schoolid,'1')\n",
    "    res = requests.get(get_xjhlist_url_2)\n",
    "    res.encoding = 'utf-8'\n",
    "    js = json.loads(res.text)\n",
    "    totalcount = js['totalcount']\n",
    "    page = math.ceil(totalcount/100)  #向上取整\n",
    "    \n",
    "    for p in range(1,page+1):\n",
    "        get_xjhlist_url1 = get_xjhlist_url_1.format(schoolid,p)\n",
    "        res = requests.get(get_xjhlist_url1)\n",
    "        res.encoding = 'utf-8'\n",
    "        js = json.loads(res.text)\n",
    "        items = js['items']\n",
    "        #print(len(items),get_xjhlist_url1)\n",
    "        for i in range(len(items)):\n",
    "            xjhid = items[i]['xjhid'] \n",
    "            jobs = get_xjh(xjhid)  \n",
    "            jobs_total.append(jobs)\n",
    "\n",
    "def get_xjh(xjhid):\n",
    "    \n",
    "    get_xjh_url = 'https://app.yingjiesheng.com/app/?module=xjhview&sessid=&userid=&xjhid={}&rtime=1540610559&rsign=e8aaa6648b720147b78cd532cc8d79f9&productname=yjsandroid&partner=33ff1cb7f042635da97af4bd800da852&uuid=1451690d4e5f2f7aa26b991052d7bccc&version=310&guid=f5ea855e3ca08e3f023e330cc8cb53b2'\n",
    "    get_xjh_url1 = get_xjh_url.format(xjhid)\n",
    "    res = requests.get(get_xjh_url1)\n",
    "    res.encoding = 'utf-8'\n",
    "    js = json.loads(res.text)\n",
    "    xjh = {}\n",
    "    \n",
    "    resultbody = js['resultbody']\n",
    "    xjh['地点'] = resultbody['address']\n",
    "    xjh['公司'] = resultbody['cname']\n",
    "    xjh['学校'] = resultbody['schoolname']\n",
    "    sharesummary = resultbody['sharesummary']\n",
    "    xjhdetail_1 = resultbody['xjhdetail']\n",
    "    xjhdetail = BeautifulSoup(xjhdetail_1,'html.parser')\n",
    "    xjh['信息'] = xjhdetail.get_text('\\n','<br/>')\n",
    "    xjh['日期'] = resultbody['xjhdate']\n",
    "    xjh['时间'] = resultbody['xjhtime']\n",
    "    return xjh\n",
    "    #print(cname,xjhdate,xjhtime,xjhdetail)\n"
   ]
  },
  {
   "cell_type": "code",
   "execution_count": 3,
   "metadata": {},
   "outputs": [
    {
     "name": "stdout",
     "output_type": "stream",
     "text": [
      "0\n",
      "1\n",
      "2\n",
      "3\n",
      "4\n",
      "5\n",
      "6\n",
      "7\n",
      "8\n",
      "9\n",
      "10\n",
      "11\n",
      "12\n",
      "13\n",
      "14\n",
      "15\n",
      "16\n"
     ]
    }
   ],
   "source": [
    "'''\n",
    "schoolid\n",
    "西安交通大学 = 1\n",
    "西安电子科技大学 = 5\n",
    "西北工业大学= 12\n",
    "西安建筑科技大学 = 45\n",
    "西安理工大学 = 46\n",
    "西北大学 = 56\n",
    "长安大学 = 69\n",
    "陕西师范大学 = 84\n",
    "陕西科技大学 = 130\n",
    "西安外国语大学 = 161\n",
    "西安工程大学 = 171\n",
    "西安财经大学 = 202\n",
    "西安工业大学 = 203\n",
    "西安科技大学 = 253\n",
    "西北农林科技大学 = 254\n",
    "西北政法大学 = 435\n",
    "西安石油大学 = 628\n",
    "\n",
    "\n",
    "'''\n",
    "\n",
    "schoolid = ['1','5','12','45','46','56','69','84','130','161','171','202','203','253','254','453','628']\n",
    "for s_id in range(0,len(schoolid)):\n",
    "    get_xjhlist(schoolid[s_id])\n",
    "    print(s_id)"
   ]
  },
  {
   "cell_type": "code",
   "execution_count": 1,
   "metadata": {},
   "outputs": [
    {
     "ename": "NameError",
     "evalue": "name 'jobs_total' is not defined",
     "output_type": "error",
     "traceback": [
      "\u001b[0;31m---------------------------------------------------------------------------\u001b[0m",
      "\u001b[0;31mNameError\u001b[0m                                 Traceback (most recent call last)",
      "\u001b[0;32m<ipython-input-1-211510e2d83d>\u001b[0m in \u001b[0;36m<module>\u001b[0;34m()\u001b[0m\n\u001b[0;32m----> 1\u001b[0;31m \u001b[0mlen\u001b[0m\u001b[0;34m(\u001b[0m\u001b[0mjobs_total\u001b[0m\u001b[0;34m)\u001b[0m\u001b[0;34m\u001b[0m\u001b[0m\n\u001b[0m\u001b[1;32m      2\u001b[0m \u001b[0;32mimport\u001b[0m \u001b[0mpandas\u001b[0m\u001b[0;34m\u001b[0m\u001b[0m\n\u001b[1;32m      3\u001b[0m \u001b[0mdf\u001b[0m \u001b[0;34m=\u001b[0m \u001b[0mpandas\u001b[0m\u001b[0;34m.\u001b[0m\u001b[0mDataFrame\u001b[0m\u001b[0;34m(\u001b[0m\u001b[0mjobs_total\u001b[0m\u001b[0;34m,\u001b[0m\u001b[0mcolumns\u001b[0m\u001b[0;34m=\u001b[0m\u001b[0;34m[\u001b[0m\u001b[0;34m'公司'\u001b[0m\u001b[0;34m,\u001b[0m\u001b[0;34m'日期'\u001b[0m\u001b[0;34m,\u001b[0m\u001b[0;34m'时间'\u001b[0m\u001b[0;34m,\u001b[0m\u001b[0;34m'学校'\u001b[0m\u001b[0;34m,\u001b[0m\u001b[0;34m'地点'\u001b[0m\u001b[0;34m,\u001b[0m\u001b[0;34m'信息'\u001b[0m\u001b[0;34m]\u001b[0m\u001b[0;34m)\u001b[0m\u001b[0;34m\u001b[0m\u001b[0m\n\u001b[1;32m      4\u001b[0m \u001b[0mdf\u001b[0m\u001b[0;34m\u001b[0m\u001b[0m\n",
      "\u001b[0;31mNameError\u001b[0m: name 'jobs_total' is not defined"
     ]
    }
   ],
   "source": [
    "len(jobs_total)\n",
    "import pandas\n",
    "df = pandas.DataFrame(jobs_total,columns=['公司','日期','时间','学校','地点','信息'])\n",
    "df"
   ]
  },
  {
   "cell_type": "code",
   "execution_count": 64,
   "metadata": {},
   "outputs": [],
   "source": [
    "get_xjhlist_url = 'https://appso.yingjiesheng.com/xjhlist?keyword=&schoolid={}&provinceid=22&page={}&pernum=100&version=310&rtime=1540610713&rsign=35a417b3ad65d209bf181d998c848f81'\n",
    "get_xjhlist_url1 = get_xjhlist_url.format('1','1')\n",
    "res = requests.get(get_xjhlist_url1)\n",
    "res.encoding = 'utf-8'\n",
    "js = json.loads(res.text)                                               "
   ]
  },
  {
   "cell_type": "code",
   "execution_count": 5,
   "metadata": {},
   "outputs": [],
   "source": [
    "df.to_excel('陕西17所高校校招宣讲会.xlsx')"
   ]
  },
  {
   "cell_type": "code",
   "execution_count": 70,
   "metadata": {},
   "outputs": [
    {
     "data": {
      "text/plain": [
       "2"
      ]
     },
     "execution_count": 70,
     "metadata": {},
     "output_type": "execute_result"
    }
   ],
   "source": [
    "totalcount = js['totalcount']\n",
    "page = math.ceil(totalcount/100)#向上取整\n",
    "page"
   ]
  },
  {
   "cell_type": "code",
   "execution_count": 111,
   "metadata": {},
   "outputs": [
    {
     "name": "stdout",
     "output_type": "stream",
     "text": [
      "1\n",
      "5\n",
      "12\n",
      "45\n",
      "56\n",
      "69\n",
      "84\n",
      "130\n",
      "161\n",
      "171\n",
      "253\n",
      "453\n",
      "628\n"
     ]
    }
   ],
   "source": [
    "'''\n",
    "西安交通大学 = 1\n",
    "西安电子科技大学 = 5\n",
    "西北工业大学= 12\n",
    "西北大学 = 56\n",
    "长安大学 = 69\n",
    "陕西师范大学 = 84\n",
    "西安建筑科技大学 = 45\n",
    "陕西科技大学 = 130\n",
    "西安外国语大学 = 161\n",
    "西安工程大学 = 171\n",
    "西安科技大学 = 253\n",
    "西北政法大学 = 435\n",
    "西安石油大学 = 628\n",
    "'''\n",
    "schoolid = ['1','5','12','45','56','69','84','130','161','171','253','453','628']\n",
    "l = len(schoolid)\n",
    "for s_id in range(0,l):\n",
    "    print(schoolid[s_id])"
   ]
  }
 ],
 "metadata": {
  "kernelspec": {
   "display_name": "Python 3",
   "language": "python",
   "name": "python3"
  },
  "language_info": {
   "codemirror_mode": {
    "name": "ipython",
    "version": 3
   },
   "file_extension": ".py",
   "mimetype": "text/x-python",
   "name": "python",
   "nbconvert_exporter": "python",
   "pygments_lexer": "ipython3",
   "version": "3.7.0"
  }
 },
 "nbformat": 4,
 "nbformat_minor": 2
}
