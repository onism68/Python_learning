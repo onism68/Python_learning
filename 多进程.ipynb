{
 "cells": [
  {
   "cell_type": "code",
   "execution_count": 4,
   "metadata": {},
   "outputs": [
    {
     "name": "stdout",
     "output_type": "stream",
     "text": [
      "Thu Jan 10 08:30:16 2019 这是子进程,每10S执行一次\n",
      "这是主进程,每1秒执行一次\n",
      "这是主进程,每1秒执行一次\n",
      "这是主进程,每1秒执行一次\n",
      "这是主进程,每1秒执行一次\n",
      "这是主进程,每1秒执行一次\n",
      "这是主进程,每1秒执行一次\n",
      "这是主进程,每1秒执行一次\n",
      "这是主进程,每1秒执行一次\n",
      "这是主进程,每1秒执行一次\n",
      "这是主进程,每1秒执行一次\n",
      "Thu Jan 10 08:30:26 2019 这是子进程,每10S执行一次\n",
      "这是主进程,每1秒执行一次\n",
      "这是主进程,每1秒执行一次\n",
      "这是主进程,每1秒执行一次\n",
      "这是主进程,每1秒执行一次\n",
      "这是主进程,每1秒执行一次\n",
      "这是主进程,每1秒执行一次\n",
      "这是主进程,每1秒执行一次\n",
      "这是主进程,每1秒执行一次\n",
      "这是主进程,每1秒执行一次\n",
      "这是主进程,每1秒执行一次\n",
      "Thu Jan 10 08:30:36 2019 这是子进程,每10S执行一次\n",
      "这是主进程,每1秒执行一次\n",
      "这是主进程,每1秒执行一次\n",
      "这是主进程,每1秒执行一次\n",
      "这是主进程,每1秒执行一次\n",
      "这是主进程,每1秒执行一次\n",
      "这是主进程,每1秒执行一次\n",
      "这是主进程,每1秒执行一次\n",
      "这是主进程,每1秒执行一次\n"
     ]
    },
    {
     "name": "stderr",
     "output_type": "stream",
     "text": [
      "Process Process-1:\n",
      "Traceback (most recent call last):\n",
      "  File \"/home/anaconda3/lib/python3.7/multiprocessing/process.py\", line 297, in _bootstrap\n",
      "    self.run()\n"
     ]
    },
    {
     "ename": "KeyboardInterrupt",
     "evalue": "",
     "output_type": "error",
     "traceback": [
      "\u001b[0;31m---------------------------------------------------------------------------\u001b[0m",
      "\u001b[0;31mKeyboardInterrupt\u001b[0m                         Traceback (most recent call last)",
      "\u001b[0;32m<ipython-input-4-d269a900dad4>\u001b[0m in \u001b[0;36m<module>\u001b[0;34m()\u001b[0m\n\u001b[1;32m     18\u001b[0m     \u001b[0;32mwhile\u001b[0m \u001b[0;36m1\u001b[0m\u001b[0;34m:\u001b[0m\u001b[0;34m\u001b[0m\u001b[0m\n\u001b[1;32m     19\u001b[0m         \u001b[0mprint\u001b[0m \u001b[0;34m(\u001b[0m\u001b[0;34m'这是主进程,每1秒执行一次'\u001b[0m\u001b[0;34m)\u001b[0m\u001b[0;34m\u001b[0m\u001b[0m\n\u001b[0;32m---> 20\u001b[0;31m         \u001b[0mtime\u001b[0m\u001b[0;34m.\u001b[0m\u001b[0msleep\u001b[0m\u001b[0;34m(\u001b[0m\u001b[0;36m1\u001b[0m\u001b[0;34m)\u001b[0m\u001b[0;34m\u001b[0m\u001b[0m\n\u001b[0m",
      "\u001b[0;31mKeyboardInterrupt\u001b[0m: "
     ]
    },
    {
     "name": "stderr",
     "output_type": "stream",
     "text": [
      "  File \"/home/anaconda3/lib/python3.7/multiprocessing/process.py\", line 99, in run\n",
      "    self._target(*self._args, **self._kwargs)\n",
      "  File \"<ipython-input-4-d269a900dad4>\", line 12, in work\n",
      "    time.sleep(10)\n",
      "KeyboardInterrupt\n"
     ]
    }
   ],
   "source": [
    "#-*- coding:utf8 -*- \n",
    "\n",
    "import multiprocessing\n",
    "import time\n",
    "\n",
    "def f():\n",
    "    print (time.ctime(),'这是子进程,每10S执行一次')\n",
    "\n",
    "def work():\n",
    "   while 1:\n",
    "       f()\n",
    "       time.sleep(10)\n",
    "\n",
    "if __name__ == '__main__':\n",
    "    p = multiprocessing.Process(target=work,)\n",
    "    p.start()\n",
    "    p.deamon = True\n",
    "    while 1:\n",
    "        print ('这是主进程,每1秒执行一次')\n",
    "        time.sleep(1)"
   ]
  },
  {
   "cell_type": "code",
   "execution_count": null,
   "metadata": {},
   "outputs": [],
   "source": []
  },
  {
   "cell_type": "code",
   "execution_count": null,
   "metadata": {},
   "outputs": [],
   "source": []
  }
 ],
 "metadata": {
  "kernelspec": {
   "display_name": "Python 3",
   "language": "python",
   "name": "python3"
  },
  "language_info": {
   "codemirror_mode": {
    "name": "ipython",
    "version": 3
   },
   "file_extension": ".py",
   "mimetype": "text/x-python",
   "name": "python",
   "nbconvert_exporter": "python",
   "pygments_lexer": "ipython3",
   "version": "3.7.0"
  }
 },
 "nbformat": 4,
 "nbformat_minor": 2
}
